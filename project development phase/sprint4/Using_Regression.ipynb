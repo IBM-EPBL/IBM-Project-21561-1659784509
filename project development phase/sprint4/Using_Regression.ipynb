{
  "nbformat": 4,
  "nbformat_minor": 0,
  "metadata": {
    "colab": {
      "provenance": []
    },
    "kernelspec": {
      "name": "python3",
      "display_name": "Python 3"
    },
    "language_info": {
      "name": "python"
    }
  },
  "cells": [
    {
      "cell_type": "code",
      "execution_count": 1,
      "metadata": {
        "id": "m5aVe8fnh1o7"
      },
      "outputs": [],
      "source": [
        "import numpy as np\n",
        "np.seterr(divide='ignore', invalid='ignore')\n",
        "import pandas as pd\n",
        "import matplotlib.pyplot as plt\n",
        "import seaborn as sns\n",
        "import plotly.express as px"
      ]
    },
    {
      "cell_type": "code",
      "source": [
        "df = pd.read_csv('crop_production.csv')"
      ],
      "metadata": {
        "id": "PWW_FMQ1h_cV"
      },
      "execution_count": 2,
      "outputs": []
    },
    {
      "cell_type": "code",
      "source": [
        "df.info()"
      ],
      "metadata": {
        "colab": {
          "base_uri": "https://localhost:8080/"
        },
        "id": "ntp7MX4BpTlL",
        "outputId": "6c6415a4-2791-4fc0-f6e7-8bdb32b5176f"
      },
      "execution_count": 50,
      "outputs": [
        {
          "output_type": "stream",
          "name": "stdout",
          "text": [
            "<class 'pandas.core.frame.DataFrame'>\n",
            "Int64Index: 181162 entries, 0 to 187768\n",
            "Data columns (total 7 columns):\n",
            " #   Column         Non-Null Count   Dtype  \n",
            "---  ------         --------------   -----  \n",
            " 0   State_Name     181162 non-null  object \n",
            " 1   District_Name  181162 non-null  object \n",
            " 2   Crop_Year      181162 non-null  int64  \n",
            " 3   Season         181162 non-null  object \n",
            " 4   Crop           181162 non-null  object \n",
            " 5   Area           181162 non-null  float64\n",
            " 6   Production     181162 non-null  float64\n",
            "dtypes: float64(2), int64(1), object(4)\n",
            "memory usage: 15.1+ MB\n"
          ]
        }
      ]
    },
    {
      "cell_type": "code",
      "source": [
        "df.describe()"
      ],
      "metadata": {
        "colab": {
          "base_uri": "https://localhost:8080/",
          "height": 300
        },
        "id": "ngYkXZMNpWas",
        "outputId": "bfaf37e4-a666-4cdf-d6e5-4f86d1b4b03c"
      },
      "execution_count": 51,
      "outputs": [
        {
          "output_type": "execute_result",
          "data": {
            "text/plain": [
              "       Crop_Year       Area    Production\n",
              "count  181162.00  181162.00     181162.00\n",
              "mean     2005.60   11970.96     736017.08\n",
              "std         4.92   38879.26   19620366.98\n",
              "min      1997.00       0.10          0.01\n",
              "25%      2002.00     100.00        100.00\n",
              "50%      2006.00     661.00        790.00\n",
              "75%      2010.00    4680.00       7070.00\n",
              "max      2015.00 1020181.00 1250800000.00"
            ],
            "text/html": [
              "\n",
              "  <div id=\"df-e2c55850-e329-4f5e-9edd-7663afa5bf8b\">\n",
              "    <div class=\"colab-df-container\">\n",
              "      <div>\n",
              "<style scoped>\n",
              "    .dataframe tbody tr th:only-of-type {\n",
              "        vertical-align: middle;\n",
              "    }\n",
              "\n",
              "    .dataframe tbody tr th {\n",
              "        vertical-align: top;\n",
              "    }\n",
              "\n",
              "    .dataframe thead th {\n",
              "        text-align: right;\n",
              "    }\n",
              "</style>\n",
              "<table border=\"1\" class=\"dataframe\">\n",
              "  <thead>\n",
              "    <tr style=\"text-align: right;\">\n",
              "      <th></th>\n",
              "      <th>Crop_Year</th>\n",
              "      <th>Area</th>\n",
              "      <th>Production</th>\n",
              "    </tr>\n",
              "  </thead>\n",
              "  <tbody>\n",
              "    <tr>\n",
              "      <th>count</th>\n",
              "      <td>181162.00</td>\n",
              "      <td>181162.00</td>\n",
              "      <td>181162.00</td>\n",
              "    </tr>\n",
              "    <tr>\n",
              "      <th>mean</th>\n",
              "      <td>2005.60</td>\n",
              "      <td>11970.96</td>\n",
              "      <td>736017.08</td>\n",
              "    </tr>\n",
              "    <tr>\n",
              "      <th>std</th>\n",
              "      <td>4.92</td>\n",
              "      <td>38879.26</td>\n",
              "      <td>19620366.98</td>\n",
              "    </tr>\n",
              "    <tr>\n",
              "      <th>min</th>\n",
              "      <td>1997.00</td>\n",
              "      <td>0.10</td>\n",
              "      <td>0.01</td>\n",
              "    </tr>\n",
              "    <tr>\n",
              "      <th>25%</th>\n",
              "      <td>2002.00</td>\n",
              "      <td>100.00</td>\n",
              "      <td>100.00</td>\n",
              "    </tr>\n",
              "    <tr>\n",
              "      <th>50%</th>\n",
              "      <td>2006.00</td>\n",
              "      <td>661.00</td>\n",
              "      <td>790.00</td>\n",
              "    </tr>\n",
              "    <tr>\n",
              "      <th>75%</th>\n",
              "      <td>2010.00</td>\n",
              "      <td>4680.00</td>\n",
              "      <td>7070.00</td>\n",
              "    </tr>\n",
              "    <tr>\n",
              "      <th>max</th>\n",
              "      <td>2015.00</td>\n",
              "      <td>1020181.00</td>\n",
              "      <td>1250800000.00</td>\n",
              "    </tr>\n",
              "  </tbody>\n",
              "</table>\n",
              "</div>\n",
              "      <button class=\"colab-df-convert\" onclick=\"convertToInteractive('df-e2c55850-e329-4f5e-9edd-7663afa5bf8b')\"\n",
              "              title=\"Convert this dataframe to an interactive table.\"\n",
              "              style=\"display:none;\">\n",
              "        \n",
              "  <svg xmlns=\"http://www.w3.org/2000/svg\" height=\"24px\"viewBox=\"0 0 24 24\"\n",
              "       width=\"24px\">\n",
              "    <path d=\"M0 0h24v24H0V0z\" fill=\"none\"/>\n",
              "    <path d=\"M18.56 5.44l.94 2.06.94-2.06 2.06-.94-2.06-.94-.94-2.06-.94 2.06-2.06.94zm-11 1L8.5 8.5l.94-2.06 2.06-.94-2.06-.94L8.5 2.5l-.94 2.06-2.06.94zm10 10l.94 2.06.94-2.06 2.06-.94-2.06-.94-.94-2.06-.94 2.06-2.06.94z\"/><path d=\"M17.41 7.96l-1.37-1.37c-.4-.4-.92-.59-1.43-.59-.52 0-1.04.2-1.43.59L10.3 9.45l-7.72 7.72c-.78.78-.78 2.05 0 2.83L4 21.41c.39.39.9.59 1.41.59.51 0 1.02-.2 1.41-.59l7.78-7.78 2.81-2.81c.8-.78.8-2.07 0-2.86zM5.41 20L4 18.59l7.72-7.72 1.47 1.35L5.41 20z\"/>\n",
              "  </svg>\n",
              "      </button>\n",
              "      \n",
              "  <style>\n",
              "    .colab-df-container {\n",
              "      display:flex;\n",
              "      flex-wrap:wrap;\n",
              "      gap: 12px;\n",
              "    }\n",
              "\n",
              "    .colab-df-convert {\n",
              "      background-color: #E8F0FE;\n",
              "      border: none;\n",
              "      border-radius: 50%;\n",
              "      cursor: pointer;\n",
              "      display: none;\n",
              "      fill: #1967D2;\n",
              "      height: 32px;\n",
              "      padding: 0 0 0 0;\n",
              "      width: 32px;\n",
              "    }\n",
              "\n",
              "    .colab-df-convert:hover {\n",
              "      background-color: #E2EBFA;\n",
              "      box-shadow: 0px 1px 2px rgba(60, 64, 67, 0.3), 0px 1px 3px 1px rgba(60, 64, 67, 0.15);\n",
              "      fill: #174EA6;\n",
              "    }\n",
              "\n",
              "    [theme=dark] .colab-df-convert {\n",
              "      background-color: #3B4455;\n",
              "      fill: #D2E3FC;\n",
              "    }\n",
              "\n",
              "    [theme=dark] .colab-df-convert:hover {\n",
              "      background-color: #434B5C;\n",
              "      box-shadow: 0px 1px 3px 1px rgba(0, 0, 0, 0.15);\n",
              "      filter: drop-shadow(0px 1px 2px rgba(0, 0, 0, 0.3));\n",
              "      fill: #FFFFFF;\n",
              "    }\n",
              "  </style>\n",
              "\n",
              "      <script>\n",
              "        const buttonEl =\n",
              "          document.querySelector('#df-e2c55850-e329-4f5e-9edd-7663afa5bf8b button.colab-df-convert');\n",
              "        buttonEl.style.display =\n",
              "          google.colab.kernel.accessAllowed ? 'block' : 'none';\n",
              "\n",
              "        async function convertToInteractive(key) {\n",
              "          const element = document.querySelector('#df-e2c55850-e329-4f5e-9edd-7663afa5bf8b');\n",
              "          const dataTable =\n",
              "            await google.colab.kernel.invokeFunction('convertToInteractive',\n",
              "                                                     [key], {});\n",
              "          if (!dataTable) return;\n",
              "\n",
              "          const docLinkHtml = 'Like what you see? Visit the ' +\n",
              "            '<a target=\"_blank\" href=https://colab.research.google.com/notebooks/data_table.ipynb>data table notebook</a>'\n",
              "            + ' to learn more about interactive tables.';\n",
              "          element.innerHTML = '';\n",
              "          dataTable['output_type'] = 'display_data';\n",
              "          await google.colab.output.renderOutput(dataTable, element);\n",
              "          const docLink = document.createElement('div');\n",
              "          docLink.innerHTML = docLinkHtml;\n",
              "          element.appendChild(docLink);\n",
              "        }\n",
              "      </script>\n",
              "    </div>\n",
              "  </div>\n",
              "  "
            ]
          },
          "metadata": {},
          "execution_count": 51
        }
      ]
    },
    {
      "cell_type": "code",
      "source": [
        "len(df['State_Name'].unique())"
      ],
      "metadata": {
        "colab": {
          "base_uri": "https://localhost:8080/"
        },
        "id": "rjx2SAxFpZjk",
        "outputId": "316c3735-4a57-4478-db51-2029ed0c15c7"
      },
      "execution_count": 52,
      "outputs": [
        {
          "output_type": "execute_result",
          "data": {
            "text/plain": [
              "28"
            ]
          },
          "metadata": {},
          "execution_count": 52
        }
      ]
    },
    {
      "cell_type": "code",
      "source": [
        "len(df['Crop'].unique())"
      ],
      "metadata": {
        "colab": {
          "base_uri": "https://localhost:8080/"
        },
        "id": "SGNRP7O7pcUj",
        "outputId": "46b4b577-82ee-40c9-cc4a-6b12bcc67009"
      },
      "execution_count": 53,
      "outputs": [
        {
          "output_type": "execute_result",
          "data": {
            "text/plain": [
              "104"
            ]
          },
          "metadata": {},
          "execution_count": 53
        }
      ]
    },
    {
      "cell_type": "code",
      "source": [
        "df.head()"
      ],
      "metadata": {
        "colab": {
          "base_uri": "https://localhost:8080/",
          "height": 206
        },
        "id": "3kmA4ybepgJ7",
        "outputId": "3cc3dd57-1d0a-47f1-96b8-fd615916f49e"
      },
      "execution_count": 54,
      "outputs": [
        {
          "output_type": "execute_result",
          "data": {
            "text/plain": [
              "                    State_Name District_Name  Crop_Year       Season  \\\n",
              "0  Andaman and Nicobar Islands      NICOBARS       2000  Kharif        \n",
              "1  Andaman and Nicobar Islands      NICOBARS       2000  Kharif        \n",
              "2  Andaman and Nicobar Islands      NICOBARS       2000  Kharif        \n",
              "3  Andaman and Nicobar Islands      NICOBARS       2000  Whole Year    \n",
              "4  Andaman and Nicobar Islands      NICOBARS       2000  Whole Year    \n",
              "\n",
              "                  Crop    Area  Production  \n",
              "0             Arecanut 1254.00     2000.00  \n",
              "1  Other Kharif pulses    2.00        1.00  \n",
              "2                 Rice  102.00      321.00  \n",
              "3               Banana  176.00      641.00  \n",
              "4            Cashewnut  720.00      165.00  "
            ],
            "text/html": [
              "\n",
              "  <div id=\"df-4a25966c-59a6-4a03-8776-4fdd32679844\">\n",
              "    <div class=\"colab-df-container\">\n",
              "      <div>\n",
              "<style scoped>\n",
              "    .dataframe tbody tr th:only-of-type {\n",
              "        vertical-align: middle;\n",
              "    }\n",
              "\n",
              "    .dataframe tbody tr th {\n",
              "        vertical-align: top;\n",
              "    }\n",
              "\n",
              "    .dataframe thead th {\n",
              "        text-align: right;\n",
              "    }\n",
              "</style>\n",
              "<table border=\"1\" class=\"dataframe\">\n",
              "  <thead>\n",
              "    <tr style=\"text-align: right;\">\n",
              "      <th></th>\n",
              "      <th>State_Name</th>\n",
              "      <th>District_Name</th>\n",
              "      <th>Crop_Year</th>\n",
              "      <th>Season</th>\n",
              "      <th>Crop</th>\n",
              "      <th>Area</th>\n",
              "      <th>Production</th>\n",
              "    </tr>\n",
              "  </thead>\n",
              "  <tbody>\n",
              "    <tr>\n",
              "      <th>0</th>\n",
              "      <td>Andaman and Nicobar Islands</td>\n",
              "      <td>NICOBARS</td>\n",
              "      <td>2000</td>\n",
              "      <td>Kharif</td>\n",
              "      <td>Arecanut</td>\n",
              "      <td>1254.00</td>\n",
              "      <td>2000.00</td>\n",
              "    </tr>\n",
              "    <tr>\n",
              "      <th>1</th>\n",
              "      <td>Andaman and Nicobar Islands</td>\n",
              "      <td>NICOBARS</td>\n",
              "      <td>2000</td>\n",
              "      <td>Kharif</td>\n",
              "      <td>Other Kharif pulses</td>\n",
              "      <td>2.00</td>\n",
              "      <td>1.00</td>\n",
              "    </tr>\n",
              "    <tr>\n",
              "      <th>2</th>\n",
              "      <td>Andaman and Nicobar Islands</td>\n",
              "      <td>NICOBARS</td>\n",
              "      <td>2000</td>\n",
              "      <td>Kharif</td>\n",
              "      <td>Rice</td>\n",
              "      <td>102.00</td>\n",
              "      <td>321.00</td>\n",
              "    </tr>\n",
              "    <tr>\n",
              "      <th>3</th>\n",
              "      <td>Andaman and Nicobar Islands</td>\n",
              "      <td>NICOBARS</td>\n",
              "      <td>2000</td>\n",
              "      <td>Whole Year</td>\n",
              "      <td>Banana</td>\n",
              "      <td>176.00</td>\n",
              "      <td>641.00</td>\n",
              "    </tr>\n",
              "    <tr>\n",
              "      <th>4</th>\n",
              "      <td>Andaman and Nicobar Islands</td>\n",
              "      <td>NICOBARS</td>\n",
              "      <td>2000</td>\n",
              "      <td>Whole Year</td>\n",
              "      <td>Cashewnut</td>\n",
              "      <td>720.00</td>\n",
              "      <td>165.00</td>\n",
              "    </tr>\n",
              "  </tbody>\n",
              "</table>\n",
              "</div>\n",
              "      <button class=\"colab-df-convert\" onclick=\"convertToInteractive('df-4a25966c-59a6-4a03-8776-4fdd32679844')\"\n",
              "              title=\"Convert this dataframe to an interactive table.\"\n",
              "              style=\"display:none;\">\n",
              "        \n",
              "  <svg xmlns=\"http://www.w3.org/2000/svg\" height=\"24px\"viewBox=\"0 0 24 24\"\n",
              "       width=\"24px\">\n",
              "    <path d=\"M0 0h24v24H0V0z\" fill=\"none\"/>\n",
              "    <path d=\"M18.56 5.44l.94 2.06.94-2.06 2.06-.94-2.06-.94-.94-2.06-.94 2.06-2.06.94zm-11 1L8.5 8.5l.94-2.06 2.06-.94-2.06-.94L8.5 2.5l-.94 2.06-2.06.94zm10 10l.94 2.06.94-2.06 2.06-.94-2.06-.94-.94-2.06-.94 2.06-2.06.94z\"/><path d=\"M17.41 7.96l-1.37-1.37c-.4-.4-.92-.59-1.43-.59-.52 0-1.04.2-1.43.59L10.3 9.45l-7.72 7.72c-.78.78-.78 2.05 0 2.83L4 21.41c.39.39.9.59 1.41.59.51 0 1.02-.2 1.41-.59l7.78-7.78 2.81-2.81c.8-.78.8-2.07 0-2.86zM5.41 20L4 18.59l7.72-7.72 1.47 1.35L5.41 20z\"/>\n",
              "  </svg>\n",
              "      </button>\n",
              "      \n",
              "  <style>\n",
              "    .colab-df-container {\n",
              "      display:flex;\n",
              "      flex-wrap:wrap;\n",
              "      gap: 12px;\n",
              "    }\n",
              "\n",
              "    .colab-df-convert {\n",
              "      background-color: #E8F0FE;\n",
              "      border: none;\n",
              "      border-radius: 50%;\n",
              "      cursor: pointer;\n",
              "      display: none;\n",
              "      fill: #1967D2;\n",
              "      height: 32px;\n",
              "      padding: 0 0 0 0;\n",
              "      width: 32px;\n",
              "    }\n",
              "\n",
              "    .colab-df-convert:hover {\n",
              "      background-color: #E2EBFA;\n",
              "      box-shadow: 0px 1px 2px rgba(60, 64, 67, 0.3), 0px 1px 3px 1px rgba(60, 64, 67, 0.15);\n",
              "      fill: #174EA6;\n",
              "    }\n",
              "\n",
              "    [theme=dark] .colab-df-convert {\n",
              "      background-color: #3B4455;\n",
              "      fill: #D2E3FC;\n",
              "    }\n",
              "\n",
              "    [theme=dark] .colab-df-convert:hover {\n",
              "      background-color: #434B5C;\n",
              "      box-shadow: 0px 1px 3px 1px rgba(0, 0, 0, 0.15);\n",
              "      filter: drop-shadow(0px 1px 2px rgba(0, 0, 0, 0.3));\n",
              "      fill: #FFFFFF;\n",
              "    }\n",
              "  </style>\n",
              "\n",
              "      <script>\n",
              "        const buttonEl =\n",
              "          document.querySelector('#df-4a25966c-59a6-4a03-8776-4fdd32679844 button.colab-df-convert');\n",
              "        buttonEl.style.display =\n",
              "          google.colab.kernel.accessAllowed ? 'block' : 'none';\n",
              "\n",
              "        async function convertToInteractive(key) {\n",
              "          const element = document.querySelector('#df-4a25966c-59a6-4a03-8776-4fdd32679844');\n",
              "          const dataTable =\n",
              "            await google.colab.kernel.invokeFunction('convertToInteractive',\n",
              "                                                     [key], {});\n",
              "          if (!dataTable) return;\n",
              "\n",
              "          const docLinkHtml = 'Like what you see? Visit the ' +\n",
              "            '<a target=\"_blank\" href=https://colab.research.google.com/notebooks/data_table.ipynb>data table notebook</a>'\n",
              "            + ' to learn more about interactive tables.';\n",
              "          element.innerHTML = '';\n",
              "          dataTable['output_type'] = 'display_data';\n",
              "          await google.colab.output.renderOutput(dataTable, element);\n",
              "          const docLink = document.createElement('div');\n",
              "          docLink.innerHTML = docLinkHtml;\n",
              "          element.appendChild(docLink);\n",
              "        }\n",
              "      </script>\n",
              "    </div>\n",
              "  </div>\n",
              "  "
            ]
          },
          "metadata": {},
          "execution_count": 54
        }
      ]
    },
    {
      "cell_type": "code",
      "source": [
        "df.isnull().sum()"
      ],
      "metadata": {
        "colab": {
          "base_uri": "https://localhost:8080/"
        },
        "id": "BCy3ePbHpirD",
        "outputId": "6e5a0c42-6d24-4461-e1fa-0d8a891bb4fc"
      },
      "execution_count": 55,
      "outputs": [
        {
          "output_type": "execute_result",
          "data": {
            "text/plain": [
              "State_Name       0\n",
              "District_Name    0\n",
              "Crop_Year        0\n",
              "Season           0\n",
              "Crop             0\n",
              "Area             0\n",
              "Production       0\n",
              "dtype: int64"
            ]
          },
          "metadata": {},
          "execution_count": 55
        }
      ]
    },
    {
      "cell_type": "code",
      "source": [
        "df.dropna(inplace=True)"
      ],
      "metadata": {
        "id": "u7DJztjdplr8"
      },
      "execution_count": 56,
      "outputs": []
    },
    {
      "cell_type": "code",
      "source": [
        "df = df[df['Production'] !=0]\n"
      ],
      "metadata": {
        "id": "reDCAdo6pqvE"
      },
      "execution_count": 57,
      "outputs": []
    },
    {
      "cell_type": "code",
      "source": [
        "df.info()"
      ],
      "metadata": {
        "colab": {
          "base_uri": "https://localhost:8080/"
        },
        "id": "cLHMxN8npuLc",
        "outputId": "3c4373f2-cf9a-4646-cb80-71cd26c2a701"
      },
      "execution_count": 58,
      "outputs": [
        {
          "output_type": "stream",
          "name": "stdout",
          "text": [
            "<class 'pandas.core.frame.DataFrame'>\n",
            "Int64Index: 181162 entries, 0 to 187768\n",
            "Data columns (total 7 columns):\n",
            " #   Column         Non-Null Count   Dtype  \n",
            "---  ------         --------------   -----  \n",
            " 0   State_Name     181162 non-null  object \n",
            " 1   District_Name  181162 non-null  object \n",
            " 2   Crop_Year      181162 non-null  int64  \n",
            " 3   Season         181162 non-null  object \n",
            " 4   Crop           181162 non-null  object \n",
            " 5   Area           181162 non-null  float64\n",
            " 6   Production     181162 non-null  float64\n",
            "dtypes: float64(2), int64(1), object(4)\n",
            "memory usage: 11.1+ MB\n"
          ]
        }
      ]
    },
    {
      "cell_type": "code",
      "source": [
        "df['Crop_Year'].unique()"
      ],
      "metadata": {
        "colab": {
          "base_uri": "https://localhost:8080/"
        },
        "id": "3HTAeDufpxEk",
        "outputId": "1c39c07f-0ffb-4130-a70d-7635442aab32"
      },
      "execution_count": 59,
      "outputs": [
        {
          "output_type": "execute_result",
          "data": {
            "text/plain": [
              "array([2000, 2001, 2002, 2003, 2004, 2005, 2006, 2010, 1997, 1998, 1999,\n",
              "       2007, 2008, 2009, 2011, 2012, 2013, 2014, 2015])"
            ]
          },
          "metadata": {},
          "execution_count": 59
        }
      ]
    },
    {
      "cell_type": "code",
      "source": [
        "df['State_Name'].unique()"
      ],
      "metadata": {
        "colab": {
          "base_uri": "https://localhost:8080/"
        },
        "id": "ljTDBgHgp0E8",
        "outputId": "601fece1-51d7-437d-cc75-6bfc3e930849"
      },
      "execution_count": 60,
      "outputs": [
        {
          "output_type": "execute_result",
          "data": {
            "text/plain": [
              "array(['Andaman and Nicobar Islands', 'Andhra Pradesh',\n",
              "       'Arunachal Pradesh', 'Assam', 'Bihar', 'Chandigarh',\n",
              "       'Chhattisgarh', 'Dadra and Nagar Haveli', 'Goa', 'Gujarat',\n",
              "       'Haryana', 'Himachal Pradesh', 'Jammu and Kashmir ', 'Jharkhand',\n",
              "       'Karnataka', 'Kerala', 'Madhya Pradesh', 'Maharashtra', 'Manipur',\n",
              "       'Meghalaya', 'Mizoram', 'Nagaland', 'Odisha', 'Puducherry',\n",
              "       'Punjab', 'Rajasthan', 'Sikkim', 'Tamil Nadu'], dtype=object)"
            ]
          },
          "metadata": {},
          "execution_count": 60
        }
      ]
    },
    {
      "cell_type": "code",
      "source": [
        "df['District_Name'].nunique()"
      ],
      "metadata": {
        "colab": {
          "base_uri": "https://localhost:8080/"
        },
        "id": "G9hMEDvQp2wt",
        "outputId": "be03925e-ae21-4637-cdad-75e618187f71"
      },
      "execution_count": 61,
      "outputs": [
        {
          "output_type": "execute_result",
          "data": {
            "text/plain": [
              "518"
            ]
          },
          "metadata": {},
          "execution_count": 61
        }
      ]
    },
    {
      "cell_type": "code",
      "source": [
        "pd.set_option('display.float_format', lambda x: '%.2f' % x)\n",
        "df['Production'].sort_values(ascending = False)"
      ],
      "metadata": {
        "colab": {
          "base_uri": "https://localhost:8080/"
        },
        "id": "U0gHX16Cp5Zk",
        "outputId": "359cf904-da25-4fc1-92cf-6303e51f8e60"
      },
      "execution_count": 62,
      "outputs": [
        {
          "output_type": "execute_result",
          "data": {
            "text/plain": [
              "178273   1250800000.00\n",
              "178331   1212000000.00\n",
              "100654   1125000000.00\n",
              "100612   1063000000.00\n",
              "100149   1059000000.00\n",
              "              ...     \n",
              "122293            0.01\n",
              "117513            0.01\n",
              "119440            0.01\n",
              "112248            0.01\n",
              "104803            0.01\n",
              "Name: Production, Length: 181162, dtype: float64"
            ]
          },
          "metadata": {},
          "execution_count": 62
        }
      ]
    },
    {
      "cell_type": "code",
      "source": [
        "df.loc[178273]"
      ],
      "metadata": {
        "colab": {
          "base_uri": "https://localhost:8080/"
        },
        "id": "okMB2gtgp888",
        "outputId": "ec00f5d7-71e9-4d09-aee5-d3f2ba4c8a44"
      },
      "execution_count": 63,
      "outputs": [
        {
          "output_type": "execute_result",
          "data": {
            "text/plain": [
              "State_Name         Tamil Nadu\n",
              "District_Name      COIMBATORE\n",
              "Crop_Year                2011\n",
              "Season            Whole Year \n",
              "Crop                 Coconut \n",
              "Area                 82704.00\n",
              "Production      1250800000.00\n",
              "Name: 178273, dtype: object"
            ]
          },
          "metadata": {},
          "execution_count": 63
        }
      ]
    },
    {
      "cell_type": "code",
      "source": [
        "df[df['Area'] == 82704.00]"
      ],
      "metadata": {
        "colab": {
          "base_uri": "https://localhost:8080/",
          "height": 81
        },
        "id": "m-cDOufRqAJM",
        "outputId": "d193236d-885c-4b5f-c0bf-e374b7e162dd"
      },
      "execution_count": 64,
      "outputs": [
        {
          "output_type": "execute_result",
          "data": {
            "text/plain": [
              "        State_Name District_Name  Crop_Year       Season      Crop     Area  \\\n",
              "178273  Tamil Nadu    COIMBATORE       2011  Whole Year   Coconut  82704.00   \n",
              "\n",
              "          Production  \n",
              "178273 1250800000.00  "
            ],
            "text/html": [
              "\n",
              "  <div id=\"df-57bf00ae-0343-4593-8ec9-856b80ffd39b\">\n",
              "    <div class=\"colab-df-container\">\n",
              "      <div>\n",
              "<style scoped>\n",
              "    .dataframe tbody tr th:only-of-type {\n",
              "        vertical-align: middle;\n",
              "    }\n",
              "\n",
              "    .dataframe tbody tr th {\n",
              "        vertical-align: top;\n",
              "    }\n",
              "\n",
              "    .dataframe thead th {\n",
              "        text-align: right;\n",
              "    }\n",
              "</style>\n",
              "<table border=\"1\" class=\"dataframe\">\n",
              "  <thead>\n",
              "    <tr style=\"text-align: right;\">\n",
              "      <th></th>\n",
              "      <th>State_Name</th>\n",
              "      <th>District_Name</th>\n",
              "      <th>Crop_Year</th>\n",
              "      <th>Season</th>\n",
              "      <th>Crop</th>\n",
              "      <th>Area</th>\n",
              "      <th>Production</th>\n",
              "    </tr>\n",
              "  </thead>\n",
              "  <tbody>\n",
              "    <tr>\n",
              "      <th>178273</th>\n",
              "      <td>Tamil Nadu</td>\n",
              "      <td>COIMBATORE</td>\n",
              "      <td>2011</td>\n",
              "      <td>Whole Year</td>\n",
              "      <td>Coconut</td>\n",
              "      <td>82704.00</td>\n",
              "      <td>1250800000.00</td>\n",
              "    </tr>\n",
              "  </tbody>\n",
              "</table>\n",
              "</div>\n",
              "      <button class=\"colab-df-convert\" onclick=\"convertToInteractive('df-57bf00ae-0343-4593-8ec9-856b80ffd39b')\"\n",
              "              title=\"Convert this dataframe to an interactive table.\"\n",
              "              style=\"display:none;\">\n",
              "        \n",
              "  <svg xmlns=\"http://www.w3.org/2000/svg\" height=\"24px\"viewBox=\"0 0 24 24\"\n",
              "       width=\"24px\">\n",
              "    <path d=\"M0 0h24v24H0V0z\" fill=\"none\"/>\n",
              "    <path d=\"M18.56 5.44l.94 2.06.94-2.06 2.06-.94-2.06-.94-.94-2.06-.94 2.06-2.06.94zm-11 1L8.5 8.5l.94-2.06 2.06-.94-2.06-.94L8.5 2.5l-.94 2.06-2.06.94zm10 10l.94 2.06.94-2.06 2.06-.94-2.06-.94-.94-2.06-.94 2.06-2.06.94z\"/><path d=\"M17.41 7.96l-1.37-1.37c-.4-.4-.92-.59-1.43-.59-.52 0-1.04.2-1.43.59L10.3 9.45l-7.72 7.72c-.78.78-.78 2.05 0 2.83L4 21.41c.39.39.9.59 1.41.59.51 0 1.02-.2 1.41-.59l7.78-7.78 2.81-2.81c.8-.78.8-2.07 0-2.86zM5.41 20L4 18.59l7.72-7.72 1.47 1.35L5.41 20z\"/>\n",
              "  </svg>\n",
              "      </button>\n",
              "      \n",
              "  <style>\n",
              "    .colab-df-container {\n",
              "      display:flex;\n",
              "      flex-wrap:wrap;\n",
              "      gap: 12px;\n",
              "    }\n",
              "\n",
              "    .colab-df-convert {\n",
              "      background-color: #E8F0FE;\n",
              "      border: none;\n",
              "      border-radius: 50%;\n",
              "      cursor: pointer;\n",
              "      display: none;\n",
              "      fill: #1967D2;\n",
              "      height: 32px;\n",
              "      padding: 0 0 0 0;\n",
              "      width: 32px;\n",
              "    }\n",
              "\n",
              "    .colab-df-convert:hover {\n",
              "      background-color: #E2EBFA;\n",
              "      box-shadow: 0px 1px 2px rgba(60, 64, 67, 0.3), 0px 1px 3px 1px rgba(60, 64, 67, 0.15);\n",
              "      fill: #174EA6;\n",
              "    }\n",
              "\n",
              "    [theme=dark] .colab-df-convert {\n",
              "      background-color: #3B4455;\n",
              "      fill: #D2E3FC;\n",
              "    }\n",
              "\n",
              "    [theme=dark] .colab-df-convert:hover {\n",
              "      background-color: #434B5C;\n",
              "      box-shadow: 0px 1px 3px 1px rgba(0, 0, 0, 0.15);\n",
              "      filter: drop-shadow(0px 1px 2px rgba(0, 0, 0, 0.3));\n",
              "      fill: #FFFFFF;\n",
              "    }\n",
              "  </style>\n",
              "\n",
              "      <script>\n",
              "        const buttonEl =\n",
              "          document.querySelector('#df-57bf00ae-0343-4593-8ec9-856b80ffd39b button.colab-df-convert');\n",
              "        buttonEl.style.display =\n",
              "          google.colab.kernel.accessAllowed ? 'block' : 'none';\n",
              "\n",
              "        async function convertToInteractive(key) {\n",
              "          const element = document.querySelector('#df-57bf00ae-0343-4593-8ec9-856b80ffd39b');\n",
              "          const dataTable =\n",
              "            await google.colab.kernel.invokeFunction('convertToInteractive',\n",
              "                                                     [key], {});\n",
              "          if (!dataTable) return;\n",
              "\n",
              "          const docLinkHtml = 'Like what you see? Visit the ' +\n",
              "            '<a target=\"_blank\" href=https://colab.research.google.com/notebooks/data_table.ipynb>data table notebook</a>'\n",
              "            + ' to learn more about interactive tables.';\n",
              "          element.innerHTML = '';\n",
              "          dataTable['output_type'] = 'display_data';\n",
              "          await google.colab.output.renderOutput(dataTable, element);\n",
              "          const docLink = document.createElement('div');\n",
              "          docLink.innerHTML = docLinkHtml;\n",
              "          element.appendChild(docLink);\n",
              "        }\n",
              "      </script>\n",
              "    </div>\n",
              "  </div>\n",
              "  "
            ]
          },
          "metadata": {},
          "execution_count": 64
        }
      ]
    },
    {
      "cell_type": "code",
      "source": [
        "no_of_diff_crops = df['Crop'].nunique()\n",
        "types_of_crops = df['Crop'].unique()\n",
        "\n",
        "print('There are {} different types of crops'.format(no_of_diff_crops))\n",
        "print('------------------------------------')\n",
        "print('They different types of crops are :-',types_of_crops)"
      ],
      "metadata": {
        "colab": {
          "base_uri": "https://localhost:8080/"
        },
        "id": "YhMr-3RdqC51",
        "outputId": "cf4a2dfb-ebab-47eb-9bd3-8d39fe0efff1"
      },
      "execution_count": 65,
      "outputs": [
        {
          "output_type": "stream",
          "name": "stdout",
          "text": [
            "There are 104 different types of crops\n",
            "------------------------------------\n",
            "They different types of crops are :- ['Arecanut' 'Other Kharif pulses' 'Rice' 'Banana' 'Cashewnut' 'Coconut '\n",
            " 'Dry ginger' 'Sugarcane' 'Sweet potato' 'Tapioca' 'Black pepper'\n",
            " 'Dry chillies' 'other oilseeds' 'Turmeric' 'Maize' 'Moong(Green Gram)'\n",
            " 'Urad' 'Arhar/Tur' 'Groundnut' 'Sunflower' 'Bajra' 'Castor seed'\n",
            " 'Cotton(lint)' 'Horse-gram' 'Jowar' 'Korra' 'Ragi' 'Tobacco' 'Gram'\n",
            " 'Wheat' 'Masoor' 'Sesamum' 'Linseed' 'Safflower' 'Onion'\n",
            " 'other misc. pulses' 'Samai' 'Small millets' 'Coriander' 'Potato'\n",
            " 'Other  Rabi pulses' 'Beans & Mutter(Vegetable)' 'Bhindi' 'Brinjal'\n",
            " 'Citrus Fruit' 'Grapes' 'Mango' 'Orange' 'Other Fresh Fruits' 'Papaya'\n",
            " 'Pome Fruit' 'Tomato' 'Soyabean' 'Mesta' 'Cowpea(Lobia)' 'Lemon'\n",
            " 'Pome Granet' 'Sapota' 'Cabbage' 'Rapeseed &Mustard' 'Niger seed'\n",
            " 'Varagu' 'Garlic' 'Ginger' 'Oilseeds total' 'Pulses total' 'Jute'\n",
            " 'Peas & beans (Pulses)' 'Blackgram' 'Paddy' 'Pineapple' 'Barley'\n",
            " 'Sannhamp' 'Khesari' 'Guar seed' 'Other Vegetables' 'Moth'\n",
            " 'Other Cereals & Millets' 'Cond-spcs other' 'Turnip' 'Carrot' 'Redish'\n",
            " 'Arcanut (Processed)' 'Atcanut (Raw)' 'Cashewnut Processed'\n",
            " 'Cashewnut Raw' 'Cardamom' 'Rubber' 'Drum Stick' 'Jack Fruit' 'Tea'\n",
            " 'Coffee' 'Total foodgrain' 'Cauliflower' 'Bitter Gourd' 'Bottle Gourd'\n",
            " 'Kapas' 'Colocosia' 'Lentil' 'Bean' 'Jobster' 'Perilla' 'Rajmash Kholar'\n",
            " 'Ricebean (nagadal)']\n"
          ]
        }
      ]
    },
    {
      "cell_type": "code",
      "source": [
        "df['Season'].value_counts()"
      ],
      "metadata": {
        "colab": {
          "base_uri": "https://localhost:8080/"
        },
        "id": "ApcF8wfFqGc0",
        "outputId": "f3802eea-edc1-486d-cc3e-84fddcf136d3"
      },
      "execution_count": 66,
      "outputs": [
        {
          "output_type": "execute_result",
          "data": {
            "text/plain": [
              "Kharif         70394\n",
              "Rabi           46092\n",
              "Whole Year     45232\n",
              "Summer          9572\n",
              "Winter          5592\n",
              "Autumn          4280\n",
              "Name: Season, dtype: int64"
            ]
          },
          "metadata": {},
          "execution_count": 66
        }
      ]
    },
    {
      "cell_type": "code",
      "source": [
        "crop_data = pd.get_dummies(data=df)"
      ],
      "metadata": {
        "id": "XuPFMG22qI_0"
      },
      "execution_count": 67,
      "outputs": []
    },
    {
      "cell_type": "code",
      "source": [
        "crop_data.head()"
      ],
      "metadata": {
        "colab": {
          "base_uri": "https://localhost:8080/",
          "height": 334
        },
        "id": "ZegsI9hmqLqM",
        "outputId": "df393c0e-8dc6-4b4a-be1f-2d2ea339110f"
      },
      "execution_count": 68,
      "outputs": [
        {
          "output_type": "execute_result",
          "data": {
            "text/plain": [
              "   Crop_Year    Area  Production  State_Name_Andaman and Nicobar Islands  \\\n",
              "0       2000 1254.00     2000.00                                       1   \n",
              "1       2000    2.00        1.00                                       1   \n",
              "2       2000  102.00      321.00                                       1   \n",
              "3       2000  176.00      641.00                                       1   \n",
              "4       2000  720.00      165.00                                       1   \n",
              "\n",
              "   State_Name_Andhra Pradesh  State_Name_Arunachal Pradesh  State_Name_Assam  \\\n",
              "0                          0                             0                 0   \n",
              "1                          0                             0                 0   \n",
              "2                          0                             0                 0   \n",
              "3                          0                             0                 0   \n",
              "4                          0                             0                 0   \n",
              "\n",
              "   State_Name_Bihar  State_Name_Chandigarh  State_Name_Chhattisgarh  ...  \\\n",
              "0                 0                      0                        0  ...   \n",
              "1                 0                      0                        0  ...   \n",
              "2                 0                      0                        0  ...   \n",
              "3                 0                      0                        0  ...   \n",
              "4                 0                      0                        0  ...   \n",
              "\n",
              "   Crop_Tobacco  Crop_Tomato  Crop_Total foodgrain  Crop_Turmeric  \\\n",
              "0             0            0                     0              0   \n",
              "1             0            0                     0              0   \n",
              "2             0            0                     0              0   \n",
              "3             0            0                     0              0   \n",
              "4             0            0                     0              0   \n",
              "\n",
              "   Crop_Turnip  Crop_Urad  Crop_Varagu  Crop_Wheat  Crop_other misc. pulses  \\\n",
              "0            0          0            0           0                        0   \n",
              "1            0          0            0           0                        0   \n",
              "2            0          0            0           0                        0   \n",
              "3            0          0            0           0                        0   \n",
              "4            0          0            0           0                        0   \n",
              "\n",
              "   Crop_other oilseeds  \n",
              "0                    0  \n",
              "1                    0  \n",
              "2                    0  \n",
              "3                    0  \n",
              "4                    0  \n",
              "\n",
              "[5 rows x 659 columns]"
            ],
            "text/html": [
              "\n",
              "  <div id=\"df-48e5ce74-0100-4454-90a0-e0fe3b7fa491\">\n",
              "    <div class=\"colab-df-container\">\n",
              "      <div>\n",
              "<style scoped>\n",
              "    .dataframe tbody tr th:only-of-type {\n",
              "        vertical-align: middle;\n",
              "    }\n",
              "\n",
              "    .dataframe tbody tr th {\n",
              "        vertical-align: top;\n",
              "    }\n",
              "\n",
              "    .dataframe thead th {\n",
              "        text-align: right;\n",
              "    }\n",
              "</style>\n",
              "<table border=\"1\" class=\"dataframe\">\n",
              "  <thead>\n",
              "    <tr style=\"text-align: right;\">\n",
              "      <th></th>\n",
              "      <th>Crop_Year</th>\n",
              "      <th>Area</th>\n",
              "      <th>Production</th>\n",
              "      <th>State_Name_Andaman and Nicobar Islands</th>\n",
              "      <th>State_Name_Andhra Pradesh</th>\n",
              "      <th>State_Name_Arunachal Pradesh</th>\n",
              "      <th>State_Name_Assam</th>\n",
              "      <th>State_Name_Bihar</th>\n",
              "      <th>State_Name_Chandigarh</th>\n",
              "      <th>State_Name_Chhattisgarh</th>\n",
              "      <th>...</th>\n",
              "      <th>Crop_Tobacco</th>\n",
              "      <th>Crop_Tomato</th>\n",
              "      <th>Crop_Total foodgrain</th>\n",
              "      <th>Crop_Turmeric</th>\n",
              "      <th>Crop_Turnip</th>\n",
              "      <th>Crop_Urad</th>\n",
              "      <th>Crop_Varagu</th>\n",
              "      <th>Crop_Wheat</th>\n",
              "      <th>Crop_other misc. pulses</th>\n",
              "      <th>Crop_other oilseeds</th>\n",
              "    </tr>\n",
              "  </thead>\n",
              "  <tbody>\n",
              "    <tr>\n",
              "      <th>0</th>\n",
              "      <td>2000</td>\n",
              "      <td>1254.00</td>\n",
              "      <td>2000.00</td>\n",
              "      <td>1</td>\n",
              "      <td>0</td>\n",
              "      <td>0</td>\n",
              "      <td>0</td>\n",
              "      <td>0</td>\n",
              "      <td>0</td>\n",
              "      <td>0</td>\n",
              "      <td>...</td>\n",
              "      <td>0</td>\n",
              "      <td>0</td>\n",
              "      <td>0</td>\n",
              "      <td>0</td>\n",
              "      <td>0</td>\n",
              "      <td>0</td>\n",
              "      <td>0</td>\n",
              "      <td>0</td>\n",
              "      <td>0</td>\n",
              "      <td>0</td>\n",
              "    </tr>\n",
              "    <tr>\n",
              "      <th>1</th>\n",
              "      <td>2000</td>\n",
              "      <td>2.00</td>\n",
              "      <td>1.00</td>\n",
              "      <td>1</td>\n",
              "      <td>0</td>\n",
              "      <td>0</td>\n",
              "      <td>0</td>\n",
              "      <td>0</td>\n",
              "      <td>0</td>\n",
              "      <td>0</td>\n",
              "      <td>...</td>\n",
              "      <td>0</td>\n",
              "      <td>0</td>\n",
              "      <td>0</td>\n",
              "      <td>0</td>\n",
              "      <td>0</td>\n",
              "      <td>0</td>\n",
              "      <td>0</td>\n",
              "      <td>0</td>\n",
              "      <td>0</td>\n",
              "      <td>0</td>\n",
              "    </tr>\n",
              "    <tr>\n",
              "      <th>2</th>\n",
              "      <td>2000</td>\n",
              "      <td>102.00</td>\n",
              "      <td>321.00</td>\n",
              "      <td>1</td>\n",
              "      <td>0</td>\n",
              "      <td>0</td>\n",
              "      <td>0</td>\n",
              "      <td>0</td>\n",
              "      <td>0</td>\n",
              "      <td>0</td>\n",
              "      <td>...</td>\n",
              "      <td>0</td>\n",
              "      <td>0</td>\n",
              "      <td>0</td>\n",
              "      <td>0</td>\n",
              "      <td>0</td>\n",
              "      <td>0</td>\n",
              "      <td>0</td>\n",
              "      <td>0</td>\n",
              "      <td>0</td>\n",
              "      <td>0</td>\n",
              "    </tr>\n",
              "    <tr>\n",
              "      <th>3</th>\n",
              "      <td>2000</td>\n",
              "      <td>176.00</td>\n",
              "      <td>641.00</td>\n",
              "      <td>1</td>\n",
              "      <td>0</td>\n",
              "      <td>0</td>\n",
              "      <td>0</td>\n",
              "      <td>0</td>\n",
              "      <td>0</td>\n",
              "      <td>0</td>\n",
              "      <td>...</td>\n",
              "      <td>0</td>\n",
              "      <td>0</td>\n",
              "      <td>0</td>\n",
              "      <td>0</td>\n",
              "      <td>0</td>\n",
              "      <td>0</td>\n",
              "      <td>0</td>\n",
              "      <td>0</td>\n",
              "      <td>0</td>\n",
              "      <td>0</td>\n",
              "    </tr>\n",
              "    <tr>\n",
              "      <th>4</th>\n",
              "      <td>2000</td>\n",
              "      <td>720.00</td>\n",
              "      <td>165.00</td>\n",
              "      <td>1</td>\n",
              "      <td>0</td>\n",
              "      <td>0</td>\n",
              "      <td>0</td>\n",
              "      <td>0</td>\n",
              "      <td>0</td>\n",
              "      <td>0</td>\n",
              "      <td>...</td>\n",
              "      <td>0</td>\n",
              "      <td>0</td>\n",
              "      <td>0</td>\n",
              "      <td>0</td>\n",
              "      <td>0</td>\n",
              "      <td>0</td>\n",
              "      <td>0</td>\n",
              "      <td>0</td>\n",
              "      <td>0</td>\n",
              "      <td>0</td>\n",
              "    </tr>\n",
              "  </tbody>\n",
              "</table>\n",
              "<p>5 rows × 659 columns</p>\n",
              "</div>\n",
              "      <button class=\"colab-df-convert\" onclick=\"convertToInteractive('df-48e5ce74-0100-4454-90a0-e0fe3b7fa491')\"\n",
              "              title=\"Convert this dataframe to an interactive table.\"\n",
              "              style=\"display:none;\">\n",
              "        \n",
              "  <svg xmlns=\"http://www.w3.org/2000/svg\" height=\"24px\"viewBox=\"0 0 24 24\"\n",
              "       width=\"24px\">\n",
              "    <path d=\"M0 0h24v24H0V0z\" fill=\"none\"/>\n",
              "    <path d=\"M18.56 5.44l.94 2.06.94-2.06 2.06-.94-2.06-.94-.94-2.06-.94 2.06-2.06.94zm-11 1L8.5 8.5l.94-2.06 2.06-.94-2.06-.94L8.5 2.5l-.94 2.06-2.06.94zm10 10l.94 2.06.94-2.06 2.06-.94-2.06-.94-.94-2.06-.94 2.06-2.06.94z\"/><path d=\"M17.41 7.96l-1.37-1.37c-.4-.4-.92-.59-1.43-.59-.52 0-1.04.2-1.43.59L10.3 9.45l-7.72 7.72c-.78.78-.78 2.05 0 2.83L4 21.41c.39.39.9.59 1.41.59.51 0 1.02-.2 1.41-.59l7.78-7.78 2.81-2.81c.8-.78.8-2.07 0-2.86zM5.41 20L4 18.59l7.72-7.72 1.47 1.35L5.41 20z\"/>\n",
              "  </svg>\n",
              "      </button>\n",
              "      \n",
              "  <style>\n",
              "    .colab-df-container {\n",
              "      display:flex;\n",
              "      flex-wrap:wrap;\n",
              "      gap: 12px;\n",
              "    }\n",
              "\n",
              "    .colab-df-convert {\n",
              "      background-color: #E8F0FE;\n",
              "      border: none;\n",
              "      border-radius: 50%;\n",
              "      cursor: pointer;\n",
              "      display: none;\n",
              "      fill: #1967D2;\n",
              "      height: 32px;\n",
              "      padding: 0 0 0 0;\n",
              "      width: 32px;\n",
              "    }\n",
              "\n",
              "    .colab-df-convert:hover {\n",
              "      background-color: #E2EBFA;\n",
              "      box-shadow: 0px 1px 2px rgba(60, 64, 67, 0.3), 0px 1px 3px 1px rgba(60, 64, 67, 0.15);\n",
              "      fill: #174EA6;\n",
              "    }\n",
              "\n",
              "    [theme=dark] .colab-df-convert {\n",
              "      background-color: #3B4455;\n",
              "      fill: #D2E3FC;\n",
              "    }\n",
              "\n",
              "    [theme=dark] .colab-df-convert:hover {\n",
              "      background-color: #434B5C;\n",
              "      box-shadow: 0px 1px 3px 1px rgba(0, 0, 0, 0.15);\n",
              "      filter: drop-shadow(0px 1px 2px rgba(0, 0, 0, 0.3));\n",
              "      fill: #FFFFFF;\n",
              "    }\n",
              "  </style>\n",
              "\n",
              "      <script>\n",
              "        const buttonEl =\n",
              "          document.querySelector('#df-48e5ce74-0100-4454-90a0-e0fe3b7fa491 button.colab-df-convert');\n",
              "        buttonEl.style.display =\n",
              "          google.colab.kernel.accessAllowed ? 'block' : 'none';\n",
              "\n",
              "        async function convertToInteractive(key) {\n",
              "          const element = document.querySelector('#df-48e5ce74-0100-4454-90a0-e0fe3b7fa491');\n",
              "          const dataTable =\n",
              "            await google.colab.kernel.invokeFunction('convertToInteractive',\n",
              "                                                     [key], {});\n",
              "          if (!dataTable) return;\n",
              "\n",
              "          const docLinkHtml = 'Like what you see? Visit the ' +\n",
              "            '<a target=\"_blank\" href=https://colab.research.google.com/notebooks/data_table.ipynb>data table notebook</a>'\n",
              "            + ' to learn more about interactive tables.';\n",
              "          element.innerHTML = '';\n",
              "          dataTable['output_type'] = 'display_data';\n",
              "          await google.colab.output.renderOutput(dataTable, element);\n",
              "          const docLink = document.createElement('div');\n",
              "          docLink.innerHTML = docLinkHtml;\n",
              "          element.appendChild(docLink);\n",
              "        }\n",
              "      </script>\n",
              "    </div>\n",
              "  </div>\n",
              "  "
            ]
          },
          "metadata": {},
          "execution_count": 68
        }
      ]
    },
    {
      "cell_type": "code",
      "source": [
        "from sklearn.model_selection import train_test_split"
      ],
      "metadata": {
        "id": "69hPzM0xqODk"
      },
      "execution_count": 69,
      "outputs": []
    },
    {
      "cell_type": "code",
      "source": [
        "X = crop_data.drop('Production',axis=1)\n",
        "X.head()"
      ],
      "metadata": {
        "colab": {
          "base_uri": "https://localhost:8080/",
          "height": 334
        },
        "id": "4yKjpnKSqRAU",
        "outputId": "d5aedaed-7d22-48ba-ed2a-3623626dc6f3"
      },
      "execution_count": 70,
      "outputs": [
        {
          "output_type": "execute_result",
          "data": {
            "text/plain": [
              "   Crop_Year    Area  State_Name_Andaman and Nicobar Islands  \\\n",
              "0       2000 1254.00                                       1   \n",
              "1       2000    2.00                                       1   \n",
              "2       2000  102.00                                       1   \n",
              "3       2000  176.00                                       1   \n",
              "4       2000  720.00                                       1   \n",
              "\n",
              "   State_Name_Andhra Pradesh  State_Name_Arunachal Pradesh  State_Name_Assam  \\\n",
              "0                          0                             0                 0   \n",
              "1                          0                             0                 0   \n",
              "2                          0                             0                 0   \n",
              "3                          0                             0                 0   \n",
              "4                          0                             0                 0   \n",
              "\n",
              "   State_Name_Bihar  State_Name_Chandigarh  State_Name_Chhattisgarh  \\\n",
              "0                 0                      0                        0   \n",
              "1                 0                      0                        0   \n",
              "2                 0                      0                        0   \n",
              "3                 0                      0                        0   \n",
              "4                 0                      0                        0   \n",
              "\n",
              "   State_Name_Dadra and Nagar Haveli  ...  Crop_Tobacco  Crop_Tomato  \\\n",
              "0                                  0  ...             0            0   \n",
              "1                                  0  ...             0            0   \n",
              "2                                  0  ...             0            0   \n",
              "3                                  0  ...             0            0   \n",
              "4                                  0  ...             0            0   \n",
              "\n",
              "   Crop_Total foodgrain  Crop_Turmeric  Crop_Turnip  Crop_Urad  Crop_Varagu  \\\n",
              "0                     0              0            0          0            0   \n",
              "1                     0              0            0          0            0   \n",
              "2                     0              0            0          0            0   \n",
              "3                     0              0            0          0            0   \n",
              "4                     0              0            0          0            0   \n",
              "\n",
              "   Crop_Wheat  Crop_other misc. pulses  Crop_other oilseeds  \n",
              "0           0                        0                    0  \n",
              "1           0                        0                    0  \n",
              "2           0                        0                    0  \n",
              "3           0                        0                    0  \n",
              "4           0                        0                    0  \n",
              "\n",
              "[5 rows x 658 columns]"
            ],
            "text/html": [
              "\n",
              "  <div id=\"df-1a715d67-9507-4729-9edd-5b72dbe90b80\">\n",
              "    <div class=\"colab-df-container\">\n",
              "      <div>\n",
              "<style scoped>\n",
              "    .dataframe tbody tr th:only-of-type {\n",
              "        vertical-align: middle;\n",
              "    }\n",
              "\n",
              "    .dataframe tbody tr th {\n",
              "        vertical-align: top;\n",
              "    }\n",
              "\n",
              "    .dataframe thead th {\n",
              "        text-align: right;\n",
              "    }\n",
              "</style>\n",
              "<table border=\"1\" class=\"dataframe\">\n",
              "  <thead>\n",
              "    <tr style=\"text-align: right;\">\n",
              "      <th></th>\n",
              "      <th>Crop_Year</th>\n",
              "      <th>Area</th>\n",
              "      <th>State_Name_Andaman and Nicobar Islands</th>\n",
              "      <th>State_Name_Andhra Pradesh</th>\n",
              "      <th>State_Name_Arunachal Pradesh</th>\n",
              "      <th>State_Name_Assam</th>\n",
              "      <th>State_Name_Bihar</th>\n",
              "      <th>State_Name_Chandigarh</th>\n",
              "      <th>State_Name_Chhattisgarh</th>\n",
              "      <th>State_Name_Dadra and Nagar Haveli</th>\n",
              "      <th>...</th>\n",
              "      <th>Crop_Tobacco</th>\n",
              "      <th>Crop_Tomato</th>\n",
              "      <th>Crop_Total foodgrain</th>\n",
              "      <th>Crop_Turmeric</th>\n",
              "      <th>Crop_Turnip</th>\n",
              "      <th>Crop_Urad</th>\n",
              "      <th>Crop_Varagu</th>\n",
              "      <th>Crop_Wheat</th>\n",
              "      <th>Crop_other misc. pulses</th>\n",
              "      <th>Crop_other oilseeds</th>\n",
              "    </tr>\n",
              "  </thead>\n",
              "  <tbody>\n",
              "    <tr>\n",
              "      <th>0</th>\n",
              "      <td>2000</td>\n",
              "      <td>1254.00</td>\n",
              "      <td>1</td>\n",
              "      <td>0</td>\n",
              "      <td>0</td>\n",
              "      <td>0</td>\n",
              "      <td>0</td>\n",
              "      <td>0</td>\n",
              "      <td>0</td>\n",
              "      <td>0</td>\n",
              "      <td>...</td>\n",
              "      <td>0</td>\n",
              "      <td>0</td>\n",
              "      <td>0</td>\n",
              "      <td>0</td>\n",
              "      <td>0</td>\n",
              "      <td>0</td>\n",
              "      <td>0</td>\n",
              "      <td>0</td>\n",
              "      <td>0</td>\n",
              "      <td>0</td>\n",
              "    </tr>\n",
              "    <tr>\n",
              "      <th>1</th>\n",
              "      <td>2000</td>\n",
              "      <td>2.00</td>\n",
              "      <td>1</td>\n",
              "      <td>0</td>\n",
              "      <td>0</td>\n",
              "      <td>0</td>\n",
              "      <td>0</td>\n",
              "      <td>0</td>\n",
              "      <td>0</td>\n",
              "      <td>0</td>\n",
              "      <td>...</td>\n",
              "      <td>0</td>\n",
              "      <td>0</td>\n",
              "      <td>0</td>\n",
              "      <td>0</td>\n",
              "      <td>0</td>\n",
              "      <td>0</td>\n",
              "      <td>0</td>\n",
              "      <td>0</td>\n",
              "      <td>0</td>\n",
              "      <td>0</td>\n",
              "    </tr>\n",
              "    <tr>\n",
              "      <th>2</th>\n",
              "      <td>2000</td>\n",
              "      <td>102.00</td>\n",
              "      <td>1</td>\n",
              "      <td>0</td>\n",
              "      <td>0</td>\n",
              "      <td>0</td>\n",
              "      <td>0</td>\n",
              "      <td>0</td>\n",
              "      <td>0</td>\n",
              "      <td>0</td>\n",
              "      <td>...</td>\n",
              "      <td>0</td>\n",
              "      <td>0</td>\n",
              "      <td>0</td>\n",
              "      <td>0</td>\n",
              "      <td>0</td>\n",
              "      <td>0</td>\n",
              "      <td>0</td>\n",
              "      <td>0</td>\n",
              "      <td>0</td>\n",
              "      <td>0</td>\n",
              "    </tr>\n",
              "    <tr>\n",
              "      <th>3</th>\n",
              "      <td>2000</td>\n",
              "      <td>176.00</td>\n",
              "      <td>1</td>\n",
              "      <td>0</td>\n",
              "      <td>0</td>\n",
              "      <td>0</td>\n",
              "      <td>0</td>\n",
              "      <td>0</td>\n",
              "      <td>0</td>\n",
              "      <td>0</td>\n",
              "      <td>...</td>\n",
              "      <td>0</td>\n",
              "      <td>0</td>\n",
              "      <td>0</td>\n",
              "      <td>0</td>\n",
              "      <td>0</td>\n",
              "      <td>0</td>\n",
              "      <td>0</td>\n",
              "      <td>0</td>\n",
              "      <td>0</td>\n",
              "      <td>0</td>\n",
              "    </tr>\n",
              "    <tr>\n",
              "      <th>4</th>\n",
              "      <td>2000</td>\n",
              "      <td>720.00</td>\n",
              "      <td>1</td>\n",
              "      <td>0</td>\n",
              "      <td>0</td>\n",
              "      <td>0</td>\n",
              "      <td>0</td>\n",
              "      <td>0</td>\n",
              "      <td>0</td>\n",
              "      <td>0</td>\n",
              "      <td>...</td>\n",
              "      <td>0</td>\n",
              "      <td>0</td>\n",
              "      <td>0</td>\n",
              "      <td>0</td>\n",
              "      <td>0</td>\n",
              "      <td>0</td>\n",
              "      <td>0</td>\n",
              "      <td>0</td>\n",
              "      <td>0</td>\n",
              "      <td>0</td>\n",
              "    </tr>\n",
              "  </tbody>\n",
              "</table>\n",
              "<p>5 rows × 658 columns</p>\n",
              "</div>\n",
              "      <button class=\"colab-df-convert\" onclick=\"convertToInteractive('df-1a715d67-9507-4729-9edd-5b72dbe90b80')\"\n",
              "              title=\"Convert this dataframe to an interactive table.\"\n",
              "              style=\"display:none;\">\n",
              "        \n",
              "  <svg xmlns=\"http://www.w3.org/2000/svg\" height=\"24px\"viewBox=\"0 0 24 24\"\n",
              "       width=\"24px\">\n",
              "    <path d=\"M0 0h24v24H0V0z\" fill=\"none\"/>\n",
              "    <path d=\"M18.56 5.44l.94 2.06.94-2.06 2.06-.94-2.06-.94-.94-2.06-.94 2.06-2.06.94zm-11 1L8.5 8.5l.94-2.06 2.06-.94-2.06-.94L8.5 2.5l-.94 2.06-2.06.94zm10 10l.94 2.06.94-2.06 2.06-.94-2.06-.94-.94-2.06-.94 2.06-2.06.94z\"/><path d=\"M17.41 7.96l-1.37-1.37c-.4-.4-.92-.59-1.43-.59-.52 0-1.04.2-1.43.59L10.3 9.45l-7.72 7.72c-.78.78-.78 2.05 0 2.83L4 21.41c.39.39.9.59 1.41.59.51 0 1.02-.2 1.41-.59l7.78-7.78 2.81-2.81c.8-.78.8-2.07 0-2.86zM5.41 20L4 18.59l7.72-7.72 1.47 1.35L5.41 20z\"/>\n",
              "  </svg>\n",
              "      </button>\n",
              "      \n",
              "  <style>\n",
              "    .colab-df-container {\n",
              "      display:flex;\n",
              "      flex-wrap:wrap;\n",
              "      gap: 12px;\n",
              "    }\n",
              "\n",
              "    .colab-df-convert {\n",
              "      background-color: #E8F0FE;\n",
              "      border: none;\n",
              "      border-radius: 50%;\n",
              "      cursor: pointer;\n",
              "      display: none;\n",
              "      fill: #1967D2;\n",
              "      height: 32px;\n",
              "      padding: 0 0 0 0;\n",
              "      width: 32px;\n",
              "    }\n",
              "\n",
              "    .colab-df-convert:hover {\n",
              "      background-color: #E2EBFA;\n",
              "      box-shadow: 0px 1px 2px rgba(60, 64, 67, 0.3), 0px 1px 3px 1px rgba(60, 64, 67, 0.15);\n",
              "      fill: #174EA6;\n",
              "    }\n",
              "\n",
              "    [theme=dark] .colab-df-convert {\n",
              "      background-color: #3B4455;\n",
              "      fill: #D2E3FC;\n",
              "    }\n",
              "\n",
              "    [theme=dark] .colab-df-convert:hover {\n",
              "      background-color: #434B5C;\n",
              "      box-shadow: 0px 1px 3px 1px rgba(0, 0, 0, 0.15);\n",
              "      filter: drop-shadow(0px 1px 2px rgba(0, 0, 0, 0.3));\n",
              "      fill: #FFFFFF;\n",
              "    }\n",
              "  </style>\n",
              "\n",
              "      <script>\n",
              "        const buttonEl =\n",
              "          document.querySelector('#df-1a715d67-9507-4729-9edd-5b72dbe90b80 button.colab-df-convert');\n",
              "        buttonEl.style.display =\n",
              "          google.colab.kernel.accessAllowed ? 'block' : 'none';\n",
              "\n",
              "        async function convertToInteractive(key) {\n",
              "          const element = document.querySelector('#df-1a715d67-9507-4729-9edd-5b72dbe90b80');\n",
              "          const dataTable =\n",
              "            await google.colab.kernel.invokeFunction('convertToInteractive',\n",
              "                                                     [key], {});\n",
              "          if (!dataTable) return;\n",
              "\n",
              "          const docLinkHtml = 'Like what you see? Visit the ' +\n",
              "            '<a target=\"_blank\" href=https://colab.research.google.com/notebooks/data_table.ipynb>data table notebook</a>'\n",
              "            + ' to learn more about interactive tables.';\n",
              "          element.innerHTML = '';\n",
              "          dataTable['output_type'] = 'display_data';\n",
              "          await google.colab.output.renderOutput(dataTable, element);\n",
              "          const docLink = document.createElement('div');\n",
              "          docLink.innerHTML = docLinkHtml;\n",
              "          element.appendChild(docLink);\n",
              "        }\n",
              "      </script>\n",
              "    </div>\n",
              "  </div>\n",
              "  "
            ]
          },
          "metadata": {},
          "execution_count": 70
        }
      ]
    },
    {
      "cell_type": "code",
      "source": [
        "y = crop_data['Production']\n",
        "y.head()"
      ],
      "metadata": {
        "colab": {
          "base_uri": "https://localhost:8080/"
        },
        "id": "dXPrSDuCqUHs",
        "outputId": "fcd1dd4a-6ed6-4ff2-ef1f-b3d2e29ef95b"
      },
      "execution_count": 71,
      "outputs": [
        {
          "output_type": "execute_result",
          "data": {
            "text/plain": [
              "0   2000.00\n",
              "1      1.00\n",
              "2    321.00\n",
              "3    641.00\n",
              "4    165.00\n",
              "Name: Production, dtype: float64"
            ]
          },
          "metadata": {},
          "execution_count": 71
        }
      ]
    },
    {
      "cell_type": "code",
      "source": [
        "X_train, X_test, y_train, y_test = train_test_split( X, y, test_size=0.33, random_state=42)"
      ],
      "metadata": {
        "id": "4Ye4nErkqW11"
      },
      "execution_count": 72,
      "outputs": []
    },
    {
      "cell_type": "code",
      "source": [
        "X_test.shape"
      ],
      "metadata": {
        "colab": {
          "base_uri": "https://localhost:8080/"
        },
        "id": "KmbjzBetqZT8",
        "outputId": "0661c462-1a9e-4577-dadd-9b99e896901e"
      },
      "execution_count": 73,
      "outputs": [
        {
          "output_type": "execute_result",
          "data": {
            "text/plain": [
              "(59784, 658)"
            ]
          },
          "metadata": {},
          "execution_count": 73
        }
      ]
    },
    {
      "cell_type": "code",
      "source": [
        "y_test.shape"
      ],
      "metadata": {
        "colab": {
          "base_uri": "https://localhost:8080/"
        },
        "id": "E5LerDFvqbu8",
        "outputId": "e351da44-fb79-4cfb-ba9f-1bebd09daf8b"
      },
      "execution_count": 74,
      "outputs": [
        {
          "output_type": "execute_result",
          "data": {
            "text/plain": [
              "(59784,)"
            ]
          },
          "metadata": {},
          "execution_count": 74
        }
      ]
    },
    {
      "cell_type": "code",
      "source": [
        "from sklearn.linear_model import LinearRegression"
      ],
      "metadata": {
        "id": "nPVrp7lTqeDM"
      },
      "execution_count": 75,
      "outputs": []
    },
    {
      "cell_type": "code",
      "source": [
        "crop_model = LinearRegression()"
      ],
      "metadata": {
        "id": "9aQqNHMJqhHk"
      },
      "execution_count": 76,
      "outputs": []
    },
    {
      "cell_type": "code",
      "source": [
        "crop_model.fit(X_train,y_train)"
      ],
      "metadata": {
        "colab": {
          "base_uri": "https://localhost:8080/"
        },
        "id": "jNNIYK5XqjOs",
        "outputId": "27e82620-85e1-414f-f6da-4f468d9beda0"
      },
      "execution_count": 77,
      "outputs": [
        {
          "output_type": "execute_result",
          "data": {
            "text/plain": [
              "LinearRegression()"
            ]
          },
          "metadata": {},
          "execution_count": 77
        }
      ]
    },
    {
      "cell_type": "code",
      "source": [
        "crop_predictions = crop_model.predict(X_test)\n",
        "crop_predictions"
      ],
      "metadata": {
        "colab": {
          "base_uri": "https://localhost:8080/"
        },
        "id": "dJYWykHmqqxU",
        "outputId": "9b64eeb1-ca9f-46d3-d832-27ac554ea773"
      },
      "execution_count": 78,
      "outputs": [
        {
          "output_type": "execute_result",
          "data": {
            "text/plain": [
              "array([ -322431.7372767 ,   405428.50808191,   571528.05049339, ...,\n",
              "       -1026232.40209921,   382062.86450776,  -250959.40477229])"
            ]
          },
          "metadata": {},
          "execution_count": 78
        }
      ]
    },
    {
      "cell_type": "code",
      "source": [
        "crop_model.coef_"
      ],
      "metadata": {
        "colab": {
          "base_uri": "https://localhost:8080/"
        },
        "id": "ufnjQIU-qsPE",
        "outputId": "77760405-6aec-4011-f8f3-6d957d51e793"
      },
      "execution_count": 79,
      "outputs": [
        {
          "output_type": "execute_result",
          "data": {
            "text/plain": [
              "array([ 2.75088818e+04,  4.09658208e+01, -1.57810555e+06, -9.19956489e+05,\n",
              "        4.86817009e+04, -2.15973620e+06, -4.92239824e+05, -5.25280042e+04,\n",
              "       -4.67064498e+05, -1.23673900e+06, -1.36724950e+06, -1.08324840e+06,\n",
              "       -1.09989148e+06,  1.18631203e+04, -7.79036341e+05, -1.72940903e+05,\n",
              "       -3.28625208e+06,  2.56854437e+07, -9.57899765e+05, -1.50365060e+06,\n",
              "        3.49176463e+05,  4.86872176e+05, -3.97750463e+05, -5.71948784e+05,\n",
              "       -1.39048510e+05, -4.51173664e+06, -1.56655091e+06, -1.34778881e+06,\n",
              "       -2.61302591e+05, -6.29371842e+05, -1.29098800e+05, -5.87838374e+04,\n",
              "       -5.27700247e+05,  4.54246462e+04,  2.35821393e+05, -3.55062754e+05,\n",
              "       -8.95929330e+06,  2.12644601e+05, -1.58269230e+05,  1.03241388e+05,\n",
              "       -4.93635335e+05, -5.15190841e+05, -4.35582703e+05,  2.32135086e+05,\n",
              "       -2.23983816e+06, -3.45561922e+05,  1.81256861e+05,  1.00511241e+05,\n",
              "        2.07219903e+05, -1.33916784e+05, -1.75181573e+06, -1.13294777e+05,\n",
              "       -2.41737467e+05, -3.51875240e+05, -6.32470434e+04, -4.37369428e+05,\n",
              "        1.41124872e+06,  1.12867728e+05, -1.36529667e+05, -1.94027976e+05,\n",
              "       -4.84227773e+05, -5.47239824e+05, -4.78581064e+05, -7.30238582e+05,\n",
              "       -1.62747276e+05,  1.18894911e+06, -3.22986347e+05,  4.04109747e+05,\n",
              "        1.56178677e+05,  2.57740609e+05, -3.76121461e+05, -1.46384984e+06,\n",
              "        1.67794824e+05, -8.45260530e+05,  3.21020211e+05, -4.19045953e+05,\n",
              "       -3.92333751e+05, -4.91404000e+05, -8.65281140e+04,  7.54937338e+05,\n",
              "        7.77609535e+05, -5.14152274e+05,  6.35075954e+05, -2.47652207e+05,\n",
              "       -2.07303474e+05, -1.29194178e+05,  5.88963099e+05,  2.55765972e+05,\n",
              "        2.53013265e+05, -5.95729781e+05,  2.39609853e+05, -9.67086294e+04,\n",
              "       -1.04694935e+06, -1.69935459e+05,  2.11046379e+05,  5.60675682e+05,\n",
              "       -3.54547843e+05, -1.32174575e+06, -6.41197052e+05, -2.01504145e+05,\n",
              "        3.23252847e+05, -2.65645947e+05,  2.41423430e+05, -5.24734942e+05,\n",
              "        5.18302399e+05,  4.61680850e+05, -3.29410703e+05, -4.94956997e+05,\n",
              "        1.08852670e+06, -8.43500334e+05,  2.69871977e+05,  2.33925031e+05,\n",
              "       -5.25280042e+04,  1.96559504e+05,  8.18272279e+04,  1.31549738e+05,\n",
              "       -4.88253686e+04, -1.33910067e+05,  5.30539782e+05,  8.56592856e+05,\n",
              "       -5.03100462e+05,  6.83141353e+05, -1.17289950e+06,  3.37705583e+05,\n",
              "        1.30981051e+05, -1.65058697e+06,  6.30315875e+06, -1.60178966e+06,\n",
              "       -1.16263611e+05, -1.23673900e+06, -4.07807491e+05, -4.34259241e+03,\n",
              "        4.74030894e+05, -1.91158340e+05, -8.25414500e+04,  1.95068158e+05,\n",
              "        2.99543342e+05,  4.27701161e+05,  8.33696605e+05,  1.92984733e+05,\n",
              "        1.75248585e+05, -3.71931697e+05, -4.27967032e+05,  3.08748572e+05,\n",
              "       -2.99411488e+05, -5.22830762e+05,  1.05707666e+06, -5.52498620e+05,\n",
              "        6.87528154e+04,  6.47711439e+05,  9.11820495e+03,  2.20928554e+05,\n",
              "        1.23801536e+05, -2.38359639e+05, -5.76157691e+05, -2.45791344e+04,\n",
              "        7.02380376e+05,  8.76021596e+04,  5.22563853e+04, -1.03698870e+05,\n",
              "       -4.28500210e+04,  7.00134131e+05, -6.83347970e+05, -6.67163519e+04,\n",
              "       -1.46120540e+05,  7.90049577e+06,  3.40596165e+05,  5.86351774e+04,\n",
              "        3.03305430e+05,  1.31946524e+05, -4.14036081e+05, -1.05248581e+07,\n",
              "        3.40838656e+05,  3.04728159e+05,  5.74030781e+05, -1.51375964e+05,\n",
              "        4.47132274e+05, -6.76527542e+05, -1.29582989e+06,  1.10849648e+04,\n",
              "        8.41525279e+05,  1.41994618e+05, -6.16963670e+04,  5.38162020e+05,\n",
              "       -5.34245432e+05, -2.87832048e+05,  3.69866544e+03, -4.86628786e+05,\n",
              "       -1.70822225e+05,  8.73477490e+04,  1.59614160e+05,  1.54582663e+04,\n",
              "       -3.31022773e+05,  4.93658022e+05, -1.02102438e+05, -4.34525125e+05,\n",
              "       -6.79042320e+04, -1.93067566e+05, -2.26845386e+06, -2.65998989e+05,\n",
              "        2.49153125e+05,  1.57040683e+05, -4.30448182e+05, -6.99295507e+05,\n",
              "       -6.64296292e+05,  2.16018079e+05,  1.29388832e+06,  2.43492297e+05,\n",
              "        1.96993772e+03,  1.08952082e+05, -5.37676154e+05, -3.05640469e+04,\n",
              "        2.41873253e+05, -2.29488011e+07,  4.18022753e+05, -2.31841819e+05,\n",
              "        5.12027478e+04, -5.00758048e+04, -5.94727284e+04, -4.41966668e+05,\n",
              "       -1.90790913e+05, -1.88008674e+04, -2.09231425e+05, -5.94559621e+05,\n",
              "       -2.83359808e+05, -1.47332550e+05, -2.66795980e+05, -7.36704732e+05,\n",
              "        4.61019638e+05, -8.82246467e+04, -4.15557108e+05, -3.43769479e+05,\n",
              "       -1.92965436e+05,  1.54446079e+05,  2.06440232e+05,  3.65894279e+05,\n",
              "        2.84203692e+05, -2.36791348e+05, -4.89367596e+05, -1.28295476e+06,\n",
              "       -3.57564089e+05, -6.61362981e+05, -4.21769663e+05, -3.65362104e+05,\n",
              "       -1.66689342e+06, -2.13112090e+05, -3.04891882e+05, -1.23942499e+05,\n",
              "        4.75452480e+05, -6.43751928e+05, -1.59220970e+06,  3.34313758e+05,\n",
              "       -8.65918490e+05, -3.57977248e+05,  1.88934797e+06,  2.04540555e+07,\n",
              "       -3.99664021e+04, -1.80586098e+06,  4.55585136e+05,  6.00845497e+04,\n",
              "        1.52312765e+05, -4.75728202e+05, -1.10271323e+05, -2.32579282e+05,\n",
              "        2.91405283e+06, -6.64922561e+04, -1.80228099e+05,  1.78396056e+05,\n",
              "       -1.36808674e+05, -4.45363858e+04, -9.51670251e+04,  1.50036465e+04,\n",
              "       -1.30956809e+03,  7.98787982e+04, -4.15273955e+04, -1.43572546e+06,\n",
              "       -5.10797991e+05, -2.64859860e+05, -5.73219346e+04, -3.48028956e+04,\n",
              "        5.45390314e+05,  6.36514342e+05,  7.91188795e+03,  7.15498882e+05,\n",
              "        4.67580804e+05,  2.16211776e+05,  6.83336816e+05, -7.74915388e+05,\n",
              "       -3.86978498e+05,  4.18331385e+04,  1.85868274e+04, -2.77300466e+05,\n",
              "       -1.99922694e+05,  2.92839525e+05, -1.66995496e+07,  4.25149605e+07,\n",
              "       -1.15023069e+06,  1.66682568e+06, -5.66939666e+05, -7.55753372e+05,\n",
              "        2.84190424e+05, -2.37103925e+06, -7.54680297e+04,  2.03466819e+05,\n",
              "       -6.93383206e+05, -2.18117268e+05, -9.60263288e+04,  9.19730146e+04,\n",
              "       -3.91214871e+04, -1.60837462e+05, -2.73988307e+04,  3.44963576e+05,\n",
              "        8.45692843e+04, -3.43817617e+05, -2.02114077e+05, -2.80728469e+04,\n",
              "       -7.16315903e+04, -7.97366167e+05, -4.31739822e+05, -1.28568739e+05,\n",
              "       -2.22675039e+05,  2.35322621e+05, -4.65755648e+05, -1.30078758e+06,\n",
              "       -3.45690694e+05, -7.01821775e+04,  4.16359043e+07,  2.53874290e+05,\n",
              "       -7.30633972e+04, -8.57824732e+05,  7.88454400e+04, -1.74475281e+05,\n",
              "        1.08949325e+06,  5.08337131e+04, -4.34405517e+05, -2.31650474e+05,\n",
              "        2.76071748e+05,  1.84782752e+04, -1.18690161e+04, -1.84567790e+04,\n",
              "        7.11796489e+03, -2.87162000e+04,  2.11018157e+06, -5.86247980e+05,\n",
              "       -4.11647988e+04, -2.06077824e+05,  1.04262226e+06, -6.60686760e+04,\n",
              "        8.04653288e+05, -2.72538500e+06, -1.06981996e+06,  4.55945472e+04,\n",
              "       -3.40381602e+05,  2.49712463e+05, -4.89647761e+05, -8.49792452e+05,\n",
              "       -4.00433348e+05,  4.45889272e+05, -9.93856672e+04,  4.90480423e+05,\n",
              "       -8.07126911e+04, -2.30203334e+05,  6.04431690e+05, -1.99910380e+05,\n",
              "        5.43100197e+05,  3.69407723e+04,  1.49239632e+05,  1.27443572e+06,\n",
              "       -1.40437862e+06,  3.29006542e+04, -4.84950082e+05, -1.65686788e+06,\n",
              "        9.06850912e+04, -1.35170464e+05, -7.72612085e+03, -8.99429082e+06,\n",
              "        2.33123815e+04,  8.56774942e+04, -3.27024357e+04,  1.43896791e+05,\n",
              "        1.87352232e+05,  5.73474263e+05,  2.71612637e+05,  1.31857798e+05,\n",
              "        1.34370051e+05, -1.99419598e+05, -1.99752201e+05, -2.17498382e+05,\n",
              "       -2.04544453e+07,  8.81739724e+05, -5.83397649e+05, -2.30350264e+05,\n",
              "       -7.15602402e+05, -1.13397103e+05, -8.87914912e+03,  2.92729717e+06,\n",
              "        2.26103940e+05,  8.86070460e+04, -1.51686320e+06,  3.56729784e+05,\n",
              "       -8.86367055e+05, -1.34508499e+05,  3.50556850e+04, -3.37305120e+05,\n",
              "       -1.71479300e+05, -1.76853811e+05, -4.19338589e+05,  6.01942557e+05,\n",
              "       -4.30037124e+05, -6.71903754e+05, -2.25340563e+05,  1.30974470e+05,\n",
              "       -2.70792577e+05, -1.00998877e+06, -5.19135314e+05,  8.14119580e+05,\n",
              "        4.67482383e+05, -1.29857000e+06,  6.01259513e+05, -1.00256129e+06,\n",
              "       -3.40803603e+05,  5.51630249e+04,  6.49848792e+05,  1.65268003e+05,\n",
              "       -1.66522262e+05, -1.39221745e+05,  2.10882722e+05,  3.68720481e+05,\n",
              "        2.13015369e+05, -3.61820457e+05,  7.16003279e+05,  7.53345174e+05,\n",
              "       -1.29102368e+05, -3.23590444e+05, -1.25504304e+05,  7.15624593e+04,\n",
              "       -1.07354973e+05, -5.04954837e+05, -1.41035783e+05, -8.01729725e+04,\n",
              "        9.16516989e+04,  1.66312741e+05, -8.71564285e+05,  4.09231922e+04,\n",
              "       -1.80795103e+05,  2.57077106e+05, -4.29421514e+04,  5.10654044e+05,\n",
              "       -3.12055904e+05, -2.42622791e+05, -1.19133993e+05, -1.56263208e+05,\n",
              "        2.85941524e+05, -3.64193498e+05,  1.12236390e+04,  1.19060472e+05,\n",
              "        2.28952952e+05, -6.72862384e+05,  9.47658949e+05, -1.90127412e+05,\n",
              "       -4.45443193e+05,  2.76691478e+03, -3.60229050e+05,  3.81853440e+05,\n",
              "        8.22099973e+05,  2.71009536e+05, -6.83033602e+05,  5.43130838e+05,\n",
              "       -1.12390977e+06, -1.13492368e+05, -8.15607915e+05,  2.55148994e+05,\n",
              "       -2.04356220e+05, -5.84648068e+05,  2.89451564e+04,  1.89487769e+05,\n",
              "        1.89794099e+05,  1.13802935e+05, -1.44816265e+06, -1.22230861e+05,\n",
              "        3.34877977e+04,  2.89618375e+05, -2.46112448e+05,  4.71835238e+05,\n",
              "       -1.82417053e+06,  1.95099164e+06,  1.13908493e+05, -4.58417527e+05,\n",
              "       -1.37362011e+05, -1.57405168e+05, -4.80102250e+05,  5.88512717e+05,\n",
              "       -4.09005613e+05, -5.86814100e+05,  2.60971407e+04,  4.87308898e+05,\n",
              "       -3.64367403e+05,  1.40207966e+05,  7.22865172e+05,  3.76080720e+06,\n",
              "       -1.09474588e+05,  1.33861734e+06, -1.49903012e+06,  2.13151288e+07,\n",
              "       -2.17797980e+06, -2.96431817e+04,  1.11639401e+07,  9.71791425e+04,\n",
              "       -1.10665510e+05,  6.09966662e+04,  5.71741885e+04,  1.78367320e+05,\n",
              "       -1.19463174e+04,  8.95290609e+05,  6.65869596e+05, -1.31455674e+05,\n",
              "       -7.38918474e+04,  4.24183441e+05, -6.12512421e+05,  2.45762424e+05,\n",
              "        3.37123234e+05, -7.95137280e+05, -7.24958561e+04, -1.43454819e+04,\n",
              "        1.30746025e+06, -7.15353839e+04, -1.11815863e+05,  5.67222949e+05,\n",
              "       -5.85095409e+05, -4.95310508e+04, -4.18340473e+05,  8.99909729e+04,\n",
              "       -2.26341438e+04, -2.49564446e+07, -1.05256032e+05, -2.41652720e+05,\n",
              "        3.90681624e+06, -6.84043400e+04,  1.54530827e+05,  1.56167195e+05,\n",
              "        7.32286048e+04,  3.92694971e+04,  4.83792587e+04,  1.04628025e+05,\n",
              "        3.43398752e+05, -4.33238524e+06, -6.29221527e+05,  2.78615064e+04,\n",
              "       -5.07179799e+05,  7.02180446e+05,  9.06521082e+05,  8.29891019e+05,\n",
              "       -6.40710255e+05, -1.29070249e+06,  3.08436052e+06, -3.69518864e+06,\n",
              "        1.51189630e+05,  3.08567550e+06, -5.32643063e+05, -7.31510565e+05,\n",
              "        5.53188780e+04, -2.81122638e+05,  2.30894131e+06,  1.12148980e+06,\n",
              "        3.38800435e+05, -6.55171936e+06,  1.64026425e+05,  3.63782954e+05,\n",
              "        1.37639628e+06,  2.59102936e+05, -4.75683389e+06,  4.83178676e+05,\n",
              "       -6.07980718e+06,  3.16930239e+06, -1.11573760e+07,  6.06020160e+05,\n",
              "        3.66660381e+05,  1.91086731e+06,  8.35191496e+07, -7.15806726e+06,\n",
              "       -3.20473888e+05,  1.59754133e+05,  1.71924741e+06, -6.51721756e+05,\n",
              "        1.02726177e+06, -2.97772208e+07,  1.36135723e+06, -1.59301910e+06,\n",
              "        1.63881726e+06,  6.75290795e+05, -3.89067571e+05,  2.11397786e+06,\n",
              "       -2.63013963e+04, -2.08560517e+05,  5.64511405e+05, -7.47113165e+06,\n",
              "       -2.68641499e+05, -4.45704760e+05,  5.22043630e+05,  2.27917297e+05,\n",
              "       -4.41970672e+05,  3.78610690e+05, -2.20909471e+05, -5.55002986e+05,\n",
              "        3.28019380e+05,  1.33819455e+05, -3.76989316e+06,  6.41844660e+03,\n",
              "        5.67027327e+05,  2.65387965e+05, -1.19247793e+05,  8.00364876e+05,\n",
              "        1.12383176e+05,  1.58241995e+06,  1.53712531e+06,  2.39583920e+05,\n",
              "       -3.14933506e+05,  2.17751594e+06,  3.89656394e+05,  1.46401325e+06,\n",
              "        5.18547493e+05, -1.20500589e+06,  2.05763367e+05, -3.56206425e+05,\n",
              "       -4.62939665e+06,  2.29183049e+06,  8.43926352e+05,  1.20338060e+06,\n",
              "        4.49407017e+05,  7.32915947e+04, -4.54502689e+05, -1.17693316e+05,\n",
              "        5.26354881e+05, -2.55981391e+06, -3.05799379e+05, -2.66776720e+07,\n",
              "        6.01836014e+05, -7.29330589e+05,  1.24218795e+06,  3.46598269e+05,\n",
              "       -1.10562046e+05,  1.67089773e+05, -1.70970917e+06,  1.24445237e+06,\n",
              "        5.90421877e+05, -1.91178124e+05, -3.45254025e+06, -4.22764845e+06,\n",
              "        1.27460468e+06,  1.43881684e+06, -2.16319939e+06, -4.50987680e+05,\n",
              "        1.39779643e+06,  2.92871710e+05,  4.65506147e+05, -1.62518626e+06,\n",
              "        7.47611674e+05,  2.05417822e+05])"
            ]
          },
          "metadata": {},
          "execution_count": 79
        }
      ]
    },
    {
      "cell_type": "code",
      "source": [
        "crop_model.intercept_"
      ],
      "metadata": {
        "colab": {
          "base_uri": "https://localhost:8080/"
        },
        "id": "oZZMxu2zqvNs",
        "outputId": "46695171-f9d5-46a8-87a7-b0de98591fd7"
      },
      "execution_count": 80,
      "outputs": [
        {
          "output_type": "execute_result",
          "data": {
            "text/plain": [
              "-55168528.39168118"
            ]
          },
          "metadata": {},
          "execution_count": 80
        }
      ]
    },
    {
      "cell_type": "code",
      "source": [
        "predicted_crop_val = pd.DataFrame({'Actual':y_test,'Predicted':crop_predictions})\n",
        "predicted_crop_val"
      ],
      "metadata": {
        "colab": {
          "base_uri": "https://localhost:8080/",
          "height": 424
        },
        "id": "YCDOu_2pqyuc",
        "outputId": "4f4e5327-994b-4110-de59-fdf721b76f27"
      },
      "execution_count": 81,
      "outputs": [
        {
          "output_type": "execute_result",
          "data": {
            "text/plain": [
              "         Actual   Predicted\n",
              "56494      9.00  -322431.74\n",
              "47692      7.00   405428.51\n",
              "105868  5041.00   571528.05\n",
              "23247  11350.00 -5197412.99\n",
              "138945    50.00   924410.57\n",
              "...         ...         ...\n",
              "71574    484.00   219823.98\n",
              "59850   2400.00   142157.06\n",
              "182987  4556.00 -1026232.40\n",
              "62034    300.00   382062.86\n",
              "184880 21103.00  -250959.40\n",
              "\n",
              "[59784 rows x 2 columns]"
            ],
            "text/html": [
              "\n",
              "  <div id=\"df-ddab50b4-fd2d-4427-b22b-7659c82bd4e4\">\n",
              "    <div class=\"colab-df-container\">\n",
              "      <div>\n",
              "<style scoped>\n",
              "    .dataframe tbody tr th:only-of-type {\n",
              "        vertical-align: middle;\n",
              "    }\n",
              "\n",
              "    .dataframe tbody tr th {\n",
              "        vertical-align: top;\n",
              "    }\n",
              "\n",
              "    .dataframe thead th {\n",
              "        text-align: right;\n",
              "    }\n",
              "</style>\n",
              "<table border=\"1\" class=\"dataframe\">\n",
              "  <thead>\n",
              "    <tr style=\"text-align: right;\">\n",
              "      <th></th>\n",
              "      <th>Actual</th>\n",
              "      <th>Predicted</th>\n",
              "    </tr>\n",
              "  </thead>\n",
              "  <tbody>\n",
              "    <tr>\n",
              "      <th>56494</th>\n",
              "      <td>9.00</td>\n",
              "      <td>-322431.74</td>\n",
              "    </tr>\n",
              "    <tr>\n",
              "      <th>47692</th>\n",
              "      <td>7.00</td>\n",
              "      <td>405428.51</td>\n",
              "    </tr>\n",
              "    <tr>\n",
              "      <th>105868</th>\n",
              "      <td>5041.00</td>\n",
              "      <td>571528.05</td>\n",
              "    </tr>\n",
              "    <tr>\n",
              "      <th>23247</th>\n",
              "      <td>11350.00</td>\n",
              "      <td>-5197412.99</td>\n",
              "    </tr>\n",
              "    <tr>\n",
              "      <th>138945</th>\n",
              "      <td>50.00</td>\n",
              "      <td>924410.57</td>\n",
              "    </tr>\n",
              "    <tr>\n",
              "      <th>...</th>\n",
              "      <td>...</td>\n",
              "      <td>...</td>\n",
              "    </tr>\n",
              "    <tr>\n",
              "      <th>71574</th>\n",
              "      <td>484.00</td>\n",
              "      <td>219823.98</td>\n",
              "    </tr>\n",
              "    <tr>\n",
              "      <th>59850</th>\n",
              "      <td>2400.00</td>\n",
              "      <td>142157.06</td>\n",
              "    </tr>\n",
              "    <tr>\n",
              "      <th>182987</th>\n",
              "      <td>4556.00</td>\n",
              "      <td>-1026232.40</td>\n",
              "    </tr>\n",
              "    <tr>\n",
              "      <th>62034</th>\n",
              "      <td>300.00</td>\n",
              "      <td>382062.86</td>\n",
              "    </tr>\n",
              "    <tr>\n",
              "      <th>184880</th>\n",
              "      <td>21103.00</td>\n",
              "      <td>-250959.40</td>\n",
              "    </tr>\n",
              "  </tbody>\n",
              "</table>\n",
              "<p>59784 rows × 2 columns</p>\n",
              "</div>\n",
              "      <button class=\"colab-df-convert\" onclick=\"convertToInteractive('df-ddab50b4-fd2d-4427-b22b-7659c82bd4e4')\"\n",
              "              title=\"Convert this dataframe to an interactive table.\"\n",
              "              style=\"display:none;\">\n",
              "        \n",
              "  <svg xmlns=\"http://www.w3.org/2000/svg\" height=\"24px\"viewBox=\"0 0 24 24\"\n",
              "       width=\"24px\">\n",
              "    <path d=\"M0 0h24v24H0V0z\" fill=\"none\"/>\n",
              "    <path d=\"M18.56 5.44l.94 2.06.94-2.06 2.06-.94-2.06-.94-.94-2.06-.94 2.06-2.06.94zm-11 1L8.5 8.5l.94-2.06 2.06-.94-2.06-.94L8.5 2.5l-.94 2.06-2.06.94zm10 10l.94 2.06.94-2.06 2.06-.94-2.06-.94-.94-2.06-.94 2.06-2.06.94z\"/><path d=\"M17.41 7.96l-1.37-1.37c-.4-.4-.92-.59-1.43-.59-.52 0-1.04.2-1.43.59L10.3 9.45l-7.72 7.72c-.78.78-.78 2.05 0 2.83L4 21.41c.39.39.9.59 1.41.59.51 0 1.02-.2 1.41-.59l7.78-7.78 2.81-2.81c.8-.78.8-2.07 0-2.86zM5.41 20L4 18.59l7.72-7.72 1.47 1.35L5.41 20z\"/>\n",
              "  </svg>\n",
              "      </button>\n",
              "      \n",
              "  <style>\n",
              "    .colab-df-container {\n",
              "      display:flex;\n",
              "      flex-wrap:wrap;\n",
              "      gap: 12px;\n",
              "    }\n",
              "\n",
              "    .colab-df-convert {\n",
              "      background-color: #E8F0FE;\n",
              "      border: none;\n",
              "      border-radius: 50%;\n",
              "      cursor: pointer;\n",
              "      display: none;\n",
              "      fill: #1967D2;\n",
              "      height: 32px;\n",
              "      padding: 0 0 0 0;\n",
              "      width: 32px;\n",
              "    }\n",
              "\n",
              "    .colab-df-convert:hover {\n",
              "      background-color: #E2EBFA;\n",
              "      box-shadow: 0px 1px 2px rgba(60, 64, 67, 0.3), 0px 1px 3px 1px rgba(60, 64, 67, 0.15);\n",
              "      fill: #174EA6;\n",
              "    }\n",
              "\n",
              "    [theme=dark] .colab-df-convert {\n",
              "      background-color: #3B4455;\n",
              "      fill: #D2E3FC;\n",
              "    }\n",
              "\n",
              "    [theme=dark] .colab-df-convert:hover {\n",
              "      background-color: #434B5C;\n",
              "      box-shadow: 0px 1px 3px 1px rgba(0, 0, 0, 0.15);\n",
              "      filter: drop-shadow(0px 1px 2px rgba(0, 0, 0, 0.3));\n",
              "      fill: #FFFFFF;\n",
              "    }\n",
              "  </style>\n",
              "\n",
              "      <script>\n",
              "        const buttonEl =\n",
              "          document.querySelector('#df-ddab50b4-fd2d-4427-b22b-7659c82bd4e4 button.colab-df-convert');\n",
              "        buttonEl.style.display =\n",
              "          google.colab.kernel.accessAllowed ? 'block' : 'none';\n",
              "\n",
              "        async function convertToInteractive(key) {\n",
              "          const element = document.querySelector('#df-ddab50b4-fd2d-4427-b22b-7659c82bd4e4');\n",
              "          const dataTable =\n",
              "            await google.colab.kernel.invokeFunction('convertToInteractive',\n",
              "                                                     [key], {});\n",
              "          if (!dataTable) return;\n",
              "\n",
              "          const docLinkHtml = 'Like what you see? Visit the ' +\n",
              "            '<a target=\"_blank\" href=https://colab.research.google.com/notebooks/data_table.ipynb>data table notebook</a>'\n",
              "            + ' to learn more about interactive tables.';\n",
              "          element.innerHTML = '';\n",
              "          dataTable['output_type'] = 'display_data';\n",
              "          await google.colab.output.renderOutput(dataTable, element);\n",
              "          const docLink = document.createElement('div');\n",
              "          docLink.innerHTML = docLinkHtml;\n",
              "          element.appendChild(docLink);\n",
              "        }\n",
              "      </script>\n",
              "    </div>\n",
              "  </div>\n",
              "  "
            ]
          },
          "metadata": {},
          "execution_count": 81
        }
      ]
    },
    {
      "cell_type": "code",
      "source": [
        "from sklearn.metrics import mean_absolute_error,mean_squared_error,r2_score"
      ],
      "metadata": {
        "id": "P1QuZRfRq13U"
      },
      "execution_count": 82,
      "outputs": []
    },
    {
      "cell_type": "code",
      "source": [
        "\n",
        "df['Production'].mean()"
      ],
      "metadata": {
        "colab": {
          "base_uri": "https://localhost:8080/"
        },
        "id": "-RlFxxjDq4lE",
        "outputId": "25ed9417-5c5b-4ac6-e01c-46eb2b8c3baf"
      },
      "execution_count": 83,
      "outputs": [
        {
          "output_type": "execute_result",
          "data": {
            "text/plain": [
              "736017.0819209325"
            ]
          },
          "metadata": {},
          "execution_count": 83
        }
      ]
    },
    {
      "cell_type": "code",
      "source": [
        "\n",
        "crop_predictions.mean()"
      ],
      "metadata": {
        "colab": {
          "base_uri": "https://localhost:8080/"
        },
        "id": "xOzwa6Kvq8w0",
        "outputId": "fdd44180-dc3f-42da-dad5-09ea8742796f"
      },
      "execution_count": 84,
      "outputs": [
        {
          "output_type": "execute_result",
          "data": {
            "text/plain": [
              "720117.5484147778"
            ]
          },
          "metadata": {},
          "execution_count": 84
        }
      ]
    },
    {
      "cell_type": "code",
      "source": [
        "mean_absolute_error(y_test,crop_predictions)"
      ],
      "metadata": {
        "colab": {
          "base_uri": "https://localhost:8080/"
        },
        "id": "JPpZSusarAp8",
        "outputId": "7ac9d7e5-97cb-4ac4-97d4-bf81248828e4"
      },
      "execution_count": 85,
      "outputs": [
        {
          "output_type": "execute_result",
          "data": {
            "text/plain": [
              "2646238.8892113436"
            ]
          },
          "metadata": {},
          "execution_count": 85
        }
      ]
    },
    {
      "cell_type": "code",
      "source": [
        "mean_squared_error(y_test,crop_predictions)"
      ],
      "metadata": {
        "colab": {
          "base_uri": "https://localhost:8080/"
        },
        "id": "ZAmqED1XrDfs",
        "outputId": "14f57404-ad1b-406b-9d6e-93db86798a6d"
      },
      "execution_count": 86,
      "outputs": [
        {
          "output_type": "execute_result",
          "data": {
            "text/plain": [
              "205688739600500.34"
            ]
          },
          "metadata": {},
          "execution_count": 86
        }
      ]
    },
    {
      "cell_type": "code",
      "source": [
        "np.sqrt(mean_squared_error(y_test,crop_predictions))"
      ],
      "metadata": {
        "colab": {
          "base_uri": "https://localhost:8080/"
        },
        "id": "QdLVx-PsrFxM",
        "outputId": "d0cbd825-6bcd-4027-c3fc-7675be5aacc5"
      },
      "execution_count": 87,
      "outputs": [
        {
          "output_type": "execute_result",
          "data": {
            "text/plain": [
              "14341852.725519821"
            ]
          },
          "metadata": {},
          "execution_count": 87
        }
      ]
    },
    {
      "cell_type": "code",
      "source": [
        "def mape(actual, pred): \n",
        "    actual, pred = np.array(actual), np.array(pred)\n",
        "    return np.mean(np.abs((actual - pred) / actual)) * 100\n",
        "\n",
        "mape(y_test,crop_predictions)"
      ],
      "metadata": {
        "colab": {
          "base_uri": "https://localhost:8080/"
        },
        "id": "Qk91GhI0rJd7",
        "outputId": "d6dce642-140f-46a4-fdc8-f022cc65075b"
      },
      "execution_count": 88,
      "outputs": [
        {
          "output_type": "execute_result",
          "data": {
            "text/plain": [
              "9354916.524316628"
            ]
          },
          "metadata": {},
          "execution_count": 88
        }
      ]
    },
    {
      "cell_type": "code",
      "source": [
        "test_residuals = y_test - crop_predictions\n"
      ],
      "metadata": {
        "id": "iqj-KOzfrLxU"
      },
      "execution_count": 89,
      "outputs": []
    },
    {
      "cell_type": "code",
      "source": [
        "test_residuals"
      ],
      "metadata": {
        "colab": {
          "base_uri": "https://localhost:8080/"
        },
        "id": "o5tPhqIErOve",
        "outputId": "5d121ff2-1ee9-4662-ac2e-a1493511c538"
      },
      "execution_count": 90,
      "outputs": [
        {
          "output_type": "execute_result",
          "data": {
            "text/plain": [
              "56494     322440.74\n",
              "47692    -405421.51\n",
              "105868   -566487.05\n",
              "23247    5208762.99\n",
              "138945   -924360.57\n",
              "            ...    \n",
              "71574    -219339.98\n",
              "59850    -139757.06\n",
              "182987   1030788.40\n",
              "62034    -381762.86\n",
              "184880    272062.40\n",
              "Name: Production, Length: 59784, dtype: float64"
            ]
          },
          "metadata": {},
          "execution_count": 90
        }
      ]
    },
    {
      "cell_type": "code",
      "source": [
        "sns.scatterplot(x=y_test,y=test_residuals)\n",
        "plt.axhline(y=0,color='red')\n",
        "plt.title('Residual plot of Testing data');\n"
      ],
      "metadata": {
        "colab": {
          "base_uri": "https://localhost:8080/",
          "height": 295
        },
        "id": "NODbjDyVrOuj",
        "outputId": "fd4d2543-b599-4f40-af51-455e1b73bf12"
      },
      "execution_count": 91,
      "outputs": [
        {
          "output_type": "display_data",
          "data": {
            "text/plain": [
              "<Figure size 432x288 with 1 Axes>"
            ],
            "image/png": "[encoded data removed]"
          },
          "metadata": {
            "needs_background": "light"
          }
        }
      ]
    },
    {
      "cell_type": "code",
      "source": [
        "r = r2_score(y_test,crop_predictions)\n",
        "print(\"R2score when we predict using Linear Regression is \",r)"
      ],
      "metadata": {
        "colab": {
          "base_uri": "https://localhost:8080/"
        },
        "id": "P1UqXPCsrUDc",
        "outputId": "975364fb-f06e-45a0-e493-2085633defee"
      },
      "execution_count": 92,
      "outputs": [
        {
          "output_type": "stream",
          "name": "stdout",
          "text": [
            "R2score when we predict using Linear Regression is  0.09934512526489914\n"
          ]
        }
      ]
    },
    {
      "cell_type": "code",
      "source": [
        "train_set_predictions = crop_model.predict(X_train)\n",
        "train_set_predictions"
      ],
      "metadata": {
        "colab": {
          "base_uri": "https://localhost:8080/"
        },
        "id": "X8DivifDrXEz",
        "outputId": "e63037fe-cf78-462e-bde4-0f47c7910846"
      },
      "execution_count": 93,
      "outputs": [
        {
          "output_type": "execute_result",
          "data": {
            "text/plain": [
              "array([-1042826.61761464,   471015.52136755, -3668004.94484405, ...,\n",
              "         794567.63776997,   504581.58531352,  2243924.24045743])"
            ]
          },
          "metadata": {},
          "execution_count": 93
        }
      ]
    },
    {
      "cell_type": "code",
      "source": [
        "train_set_predictions.mean()"
      ],
      "metadata": {
        "colab": {
          "base_uri": "https://localhost:8080/"
        },
        "id": "gSbqvK3VrZ07",
        "outputId": "0c6b9a02-6cc6-4db0-ab88-768597aa4b4f"
      },
      "execution_count": 94,
      "outputs": [
        {
          "output_type": "execute_result",
          "data": {
            "text/plain": [
              "839778.9809248007"
            ]
          },
          "metadata": {},
          "execution_count": 94
        }
      ]
    },
    {
      "cell_type": "code",
      "source": [
        "sns.scatterplot(x=y_train,y=y_train-train_set_predictions)\n",
        "plt.axhline(y=0,color='red')\n",
        "plt.title('Residual plot of Training data');"
      ],
      "metadata": {
        "colab": {
          "base_uri": "https://localhost:8080/",
          "height": 295
        },
        "id": "-BuCqzGJrcGj",
        "outputId": "3c782838-0845-4084-bea3-a30b1201ef3d"
      },
      "execution_count": 95,
      "outputs": [
        {
          "output_type": "display_data",
          "data": {
            "text/plain": [
              "<Figure size 432x288 with 1 Axes>"
            ],
            "image/png": "[encoded data removed]"
          },
          "metadata": {
            "needs_background": "light"
          }
        }
      ]
    },
    {
      "cell_type": "code",
      "source": [
        "def mape(actual, pred): \n",
        "    actual, pred = np.array(actual), np.array(pred)\n",
        "    return np.mean(np.abs((actual - pred) / actual)) * 100\n",
        "\n",
        "mape(y_train,train_set_predictions)"
      ],
      "metadata": {
        "colab": {
          "base_uri": "https://localhost:8080/"
        },
        "id": "K2SObpfrre2s",
        "outputId": "ae3e248e-efc3-441e-f91d-21a9fa5515ca"
      },
      "execution_count": 96,
      "outputs": [
        {
          "output_type": "execute_result",
          "data": {
            "text/plain": [
              "9930445.296756715"
            ]
          },
          "metadata": {},
          "execution_count": 96
        }
      ]
    },
    {
      "cell_type": "code",
      "source": [
        "Crop_data2 = df.drop(['District_Name'],axis=1)"
      ],
      "metadata": {
        "id": "APn0YW_Xrh0E"
      },
      "execution_count": 97,
      "outputs": []
    },
    {
      "cell_type": "code",
      "source": [
        "Crop_data2.head()"
      ],
      "metadata": {
        "colab": {
          "base_uri": "https://localhost:8080/",
          "height": 206
        },
        "id": "doR-mGn2rkEk",
        "outputId": "49679f63-9e02-44db-8be0-e22c53ad1b5e"
      },
      "execution_count": 98,
      "outputs": [
        {
          "output_type": "execute_result",
          "data": {
            "text/plain": [
              "                    State_Name  Crop_Year       Season                 Crop  \\\n",
              "0  Andaman and Nicobar Islands       2000  Kharif                  Arecanut   \n",
              "1  Andaman and Nicobar Islands       2000  Kharif       Other Kharif pulses   \n",
              "2  Andaman and Nicobar Islands       2000  Kharif                      Rice   \n",
              "3  Andaman and Nicobar Islands       2000  Whole Year                Banana   \n",
              "4  Andaman and Nicobar Islands       2000  Whole Year             Cashewnut   \n",
              "\n",
              "     Area  Production  \n",
              "0 1254.00     2000.00  \n",
              "1    2.00        1.00  \n",
              "2  102.00      321.00  \n",
              "3  176.00      641.00  \n",
              "4  720.00      165.00  "
            ],
            "text/html": [
              "\n",
              "  <div id=\"df-823a2c54-c33e-4375-b0cd-70676678b5a3\">\n",
              "    <div class=\"colab-df-container\">\n",
              "      <div>\n",
              "<style scoped>\n",
              "    .dataframe tbody tr th:only-of-type {\n",
              "        vertical-align: middle;\n",
              "    }\n",
              "\n",
              "    .dataframe tbody tr th {\n",
              "        vertical-align: top;\n",
              "    }\n",
              "\n",
              "    .dataframe thead th {\n",
              "        text-align: right;\n",
              "    }\n",
              "</style>\n",
              "<table border=\"1\" class=\"dataframe\">\n",
              "  <thead>\n",
              "    <tr style=\"text-align: right;\">\n",
              "      <th></th>\n",
              "      <th>State_Name</th>\n",
              "      <th>Crop_Year</th>\n",
              "      <th>Season</th>\n",
              "      <th>Crop</th>\n",
              "      <th>Area</th>\n",
              "      <th>Production</th>\n",
              "    </tr>\n",
              "  </thead>\n",
              "  <tbody>\n",
              "    <tr>\n",
              "      <th>0</th>\n",
              "      <td>Andaman and Nicobar Islands</td>\n",
              "      <td>2000</td>\n",
              "      <td>Kharif</td>\n",
              "      <td>Arecanut</td>\n",
              "      <td>1254.00</td>\n",
              "      <td>2000.00</td>\n",
              "    </tr>\n",
              "    <tr>\n",
              "      <th>1</th>\n",
              "      <td>Andaman and Nicobar Islands</td>\n",
              "      <td>2000</td>\n",
              "      <td>Kharif</td>\n",
              "      <td>Other Kharif pulses</td>\n",
              "      <td>2.00</td>\n",
              "      <td>1.00</td>\n",
              "    </tr>\n",
              "    <tr>\n",
              "      <th>2</th>\n",
              "      <td>Andaman and Nicobar Islands</td>\n",
              "      <td>2000</td>\n",
              "      <td>Kharif</td>\n",
              "      <td>Rice</td>\n",
              "      <td>102.00</td>\n",
              "      <td>321.00</td>\n",
              "    </tr>\n",
              "    <tr>\n",
              "      <th>3</th>\n",
              "      <td>Andaman and Nicobar Islands</td>\n",
              "      <td>2000</td>\n",
              "      <td>Whole Year</td>\n",
              "      <td>Banana</td>\n",
              "      <td>176.00</td>\n",
              "      <td>641.00</td>\n",
              "    </tr>\n",
              "    <tr>\n",
              "      <th>4</th>\n",
              "      <td>Andaman and Nicobar Islands</td>\n",
              "      <td>2000</td>\n",
              "      <td>Whole Year</td>\n",
              "      <td>Cashewnut</td>\n",
              "      <td>720.00</td>\n",
              "      <td>165.00</td>\n",
              "    </tr>\n",
              "  </tbody>\n",
              "</table>\n",
              "</div>\n",
              "      <button class=\"colab-df-convert\" onclick=\"convertToInteractive('df-823a2c54-c33e-4375-b0cd-70676678b5a3')\"\n",
              "              title=\"Convert this dataframe to an interactive table.\"\n",
              "              style=\"display:none;\">\n",
              "        \n",
              "  <svg xmlns=\"http://www.w3.org/2000/svg\" height=\"24px\"viewBox=\"0 0 24 24\"\n",
              "       width=\"24px\">\n",
              "    <path d=\"M0 0h24v24H0V0z\" fill=\"none\"/>\n",
              "    <path d=\"M18.56 5.44l.94 2.06.94-2.06 2.06-.94-2.06-.94-.94-2.06-.94 2.06-2.06.94zm-11 1L8.5 8.5l.94-2.06 2.06-.94-2.06-.94L8.5 2.5l-.94 2.06-2.06.94zm10 10l.94 2.06.94-2.06 2.06-.94-2.06-.94-.94-2.06-.94 2.06-2.06.94z\"/><path d=\"M17.41 7.96l-1.37-1.37c-.4-.4-.92-.59-1.43-.59-.52 0-1.04.2-1.43.59L10.3 9.45l-7.72 7.72c-.78.78-.78 2.05 0 2.83L4 21.41c.39.39.9.59 1.41.59.51 0 1.02-.2 1.41-.59l7.78-7.78 2.81-2.81c.8-.78.8-2.07 0-2.86zM5.41 20L4 18.59l7.72-7.72 1.47 1.35L5.41 20z\"/>\n",
              "  </svg>\n",
              "      </button>\n",
              "      \n",
              "  <style>\n",
              "    .colab-df-container {\n",
              "      display:flex;\n",
              "      flex-wrap:wrap;\n",
              "      gap: 12px;\n",
              "    }\n",
              "\n",
              "    .colab-df-convert {\n",
              "      background-color: #E8F0FE;\n",
              "      border: none;\n",
              "      border-radius: 50%;\n",
              "      cursor: pointer;\n",
              "      display: none;\n",
              "      fill: #1967D2;\n",
              "      height: 32px;\n",
              "      padding: 0 0 0 0;\n",
              "      width: 32px;\n",
              "    }\n",
              "\n",
              "    .colab-df-convert:hover {\n",
              "      background-color: #E2EBFA;\n",
              "      box-shadow: 0px 1px 2px rgba(60, 64, 67, 0.3), 0px 1px 3px 1px rgba(60, 64, 67, 0.15);\n",
              "      fill: #174EA6;\n",
              "    }\n",
              "\n",
              "    [theme=dark] .colab-df-convert {\n",
              "      background-color: #3B4455;\n",
              "      fill: #D2E3FC;\n",
              "    }\n",
              "\n",
              "    [theme=dark] .colab-df-convert:hover {\n",
              "      background-color: #434B5C;\n",
              "      box-shadow: 0px 1px 3px 1px rgba(0, 0, 0, 0.15);\n",
              "      filter: drop-shadow(0px 1px 2px rgba(0, 0, 0, 0.3));\n",
              "      fill: #FFFFFF;\n",
              "    }\n",
              "  </style>\n",
              "\n",
              "      <script>\n",
              "        const buttonEl =\n",
              "          document.querySelector('#df-823a2c54-c33e-4375-b0cd-70676678b5a3 button.colab-df-convert');\n",
              "        buttonEl.style.display =\n",
              "          google.colab.kernel.accessAllowed ? 'block' : 'none';\n",
              "\n",
              "        async function convertToInteractive(key) {\n",
              "          const element = document.querySelector('#df-823a2c54-c33e-4375-b0cd-70676678b5a3');\n",
              "          const dataTable =\n",
              "            await google.colab.kernel.invokeFunction('convertToInteractive',\n",
              "                                                     [key], {});\n",
              "          if (!dataTable) return;\n",
              "\n",
              "          const docLinkHtml = 'Like what you see? Visit the ' +\n",
              "            '<a target=\"_blank\" href=https://colab.research.google.com/notebooks/data_table.ipynb>data table notebook</a>'\n",
              "            + ' to learn more about interactive tables.';\n",
              "          element.innerHTML = '';\n",
              "          dataTable['output_type'] = 'display_data';\n",
              "          await google.colab.output.renderOutput(dataTable, element);\n",
              "          const docLink = document.createElement('div');\n",
              "          docLink.innerHTML = docLinkHtml;\n",
              "          element.appendChild(docLink);\n",
              "        }\n",
              "      </script>\n",
              "    </div>\n",
              "  </div>\n",
              "  "
            ]
          },
          "metadata": {},
          "execution_count": 98
        }
      ]
    },
    {
      "cell_type": "code",
      "source": [
        "crop_data2_ac = pd.get_dummies(data=Crop_data2)\n",
        "crop_data2_ac.head()\n"
      ],
      "metadata": {
        "colab": {
          "base_uri": "https://localhost:8080/",
          "height": 334
        },
        "id": "aDV5TT5IrmPs",
        "outputId": "f28269a3-860f-4deb-9017-e6ce91b6833f"
      },
      "execution_count": 99,
      "outputs": [
        {
          "output_type": "execute_result",
          "data": {
            "text/plain": [
              "   Crop_Year    Area  Production  State_Name_Andaman and Nicobar Islands  \\\n",
              "0       2000 1254.00     2000.00                                       1   \n",
              "1       2000    2.00        1.00                                       1   \n",
              "2       2000  102.00      321.00                                       1   \n",
              "3       2000  176.00      641.00                                       1   \n",
              "4       2000  720.00      165.00                                       1   \n",
              "\n",
              "   State_Name_Andhra Pradesh  State_Name_Arunachal Pradesh  State_Name_Assam  \\\n",
              "0                          0                             0                 0   \n",
              "1                          0                             0                 0   \n",
              "2                          0                             0                 0   \n",
              "3                          0                             0                 0   \n",
              "4                          0                             0                 0   \n",
              "\n",
              "   State_Name_Bihar  State_Name_Chandigarh  State_Name_Chhattisgarh  ...  \\\n",
              "0                 0                      0                        0  ...   \n",
              "1                 0                      0                        0  ...   \n",
              "2                 0                      0                        0  ...   \n",
              "3                 0                      0                        0  ...   \n",
              "4                 0                      0                        0  ...   \n",
              "\n",
              "   Crop_Tobacco  Crop_Tomato  Crop_Total foodgrain  Crop_Turmeric  \\\n",
              "0             0            0                     0              0   \n",
              "1             0            0                     0              0   \n",
              "2             0            0                     0              0   \n",
              "3             0            0                     0              0   \n",
              "4             0            0                     0              0   \n",
              "\n",
              "   Crop_Turnip  Crop_Urad  Crop_Varagu  Crop_Wheat  Crop_other misc. pulses  \\\n",
              "0            0          0            0           0                        0   \n",
              "1            0          0            0           0                        0   \n",
              "2            0          0            0           0                        0   \n",
              "3            0          0            0           0                        0   \n",
              "4            0          0            0           0                        0   \n",
              "\n",
              "   Crop_other oilseeds  \n",
              "0                    0  \n",
              "1                    0  \n",
              "2                    0  \n",
              "3                    0  \n",
              "4                    0  \n",
              "\n",
              "[5 rows x 141 columns]"
            ],
            "text/html": [
              "\n",
              "  <div id=\"df-e9f4211f-99e2-47e9-a02a-1c9298735802\">\n",
              "    <div class=\"colab-df-container\">\n",
              "      <div>\n",
              "<style scoped>\n",
              "    .dataframe tbody tr th:only-of-type {\n",
              "        vertical-align: middle;\n",
              "    }\n",
              "\n",
              "    .dataframe tbody tr th {\n",
              "        vertical-align: top;\n",
              "    }\n",
              "\n",
              "    .dataframe thead th {\n",
              "        text-align: right;\n",
              "    }\n",
              "</style>\n",
              "<table border=\"1\" class=\"dataframe\">\n",
              "  <thead>\n",
              "    <tr style=\"text-align: right;\">\n",
              "      <th></th>\n",
              "      <th>Crop_Year</th>\n",
              "      <th>Area</th>\n",
              "      <th>Production</th>\n",
              "      <th>State_Name_Andaman and Nicobar Islands</th>\n",
              "      <th>State_Name_Andhra Pradesh</th>\n",
              "      <th>State_Name_Arunachal Pradesh</th>\n",
              "      <th>State_Name_Assam</th>\n",
              "      <th>State_Name_Bihar</th>\n",
              "      <th>State_Name_Chandigarh</th>\n",
              "      <th>State_Name_Chhattisgarh</th>\n",
              "      <th>...</th>\n",
              "      <th>Crop_Tobacco</th>\n",
              "      <th>Crop_Tomato</th>\n",
              "      <th>Crop_Total foodgrain</th>\n",
              "      <th>Crop_Turmeric</th>\n",
              "      <th>Crop_Turnip</th>\n",
              "      <th>Crop_Urad</th>\n",
              "      <th>Crop_Varagu</th>\n",
              "      <th>Crop_Wheat</th>\n",
              "      <th>Crop_other misc. pulses</th>\n",
              "      <th>Crop_other oilseeds</th>\n",
              "    </tr>\n",
              "  </thead>\n",
              "  <tbody>\n",
              "    <tr>\n",
              "      <th>0</th>\n",
              "      <td>2000</td>\n",
              "      <td>1254.00</td>\n",
              "      <td>2000.00</td>\n",
              "      <td>1</td>\n",
              "      <td>0</td>\n",
              "      <td>0</td>\n",
              "      <td>0</td>\n",
              "      <td>0</td>\n",
              "      <td>0</td>\n",
              "      <td>0</td>\n",
              "      <td>...</td>\n",
              "      <td>0</td>\n",
              "      <td>0</td>\n",
              "      <td>0</td>\n",
              "      <td>0</td>\n",
              "      <td>0</td>\n",
              "      <td>0</td>\n",
              "      <td>0</td>\n",
              "      <td>0</td>\n",
              "      <td>0</td>\n",
              "      <td>0</td>\n",
              "    </tr>\n",
              "    <tr>\n",
              "      <th>1</th>\n",
              "      <td>2000</td>\n",
              "      <td>2.00</td>\n",
              "      <td>1.00</td>\n",
              "      <td>1</td>\n",
              "      <td>0</td>\n",
              "      <td>0</td>\n",
              "      <td>0</td>\n",
              "      <td>0</td>\n",
              "      <td>0</td>\n",
              "      <td>0</td>\n",
              "      <td>...</td>\n",
              "      <td>0</td>\n",
              "      <td>0</td>\n",
              "      <td>0</td>\n",
              "      <td>0</td>\n",
              "      <td>0</td>\n",
              "      <td>0</td>\n",
              "      <td>0</td>\n",
              "      <td>0</td>\n",
              "      <td>0</td>\n",
              "      <td>0</td>\n",
              "    </tr>\n",
              "    <tr>\n",
              "      <th>2</th>\n",
              "      <td>2000</td>\n",
              "      <td>102.00</td>\n",
              "      <td>321.00</td>\n",
              "      <td>1</td>\n",
              "      <td>0</td>\n",
              "      <td>0</td>\n",
              "      <td>0</td>\n",
              "      <td>0</td>\n",
              "      <td>0</td>\n",
              "      <td>0</td>\n",
              "      <td>...</td>\n",
              "      <td>0</td>\n",
              "      <td>0</td>\n",
              "      <td>0</td>\n",
              "      <td>0</td>\n",
              "      <td>0</td>\n",
              "      <td>0</td>\n",
              "      <td>0</td>\n",
              "      <td>0</td>\n",
              "      <td>0</td>\n",
              "      <td>0</td>\n",
              "    </tr>\n",
              "    <tr>\n",
              "      <th>3</th>\n",
              "      <td>2000</td>\n",
              "      <td>176.00</td>\n",
              "      <td>641.00</td>\n",
              "      <td>1</td>\n",
              "      <td>0</td>\n",
              "      <td>0</td>\n",
              "      <td>0</td>\n",
              "      <td>0</td>\n",
              "      <td>0</td>\n",
              "      <td>0</td>\n",
              "      <td>...</td>\n",
              "      <td>0</td>\n",
              "      <td>0</td>\n",
              "      <td>0</td>\n",
              "      <td>0</td>\n",
              "      <td>0</td>\n",
              "      <td>0</td>\n",
              "      <td>0</td>\n",
              "      <td>0</td>\n",
              "      <td>0</td>\n",
              "      <td>0</td>\n",
              "    </tr>\n",
              "    <tr>\n",
              "      <th>4</th>\n",
              "      <td>2000</td>\n",
              "      <td>720.00</td>\n",
              "      <td>165.00</td>\n",
              "      <td>1</td>\n",
              "      <td>0</td>\n",
              "      <td>0</td>\n",
              "      <td>0</td>\n",
              "      <td>0</td>\n",
              "      <td>0</td>\n",
              "      <td>0</td>\n",
              "      <td>...</td>\n",
              "      <td>0</td>\n",
              "      <td>0</td>\n",
              "      <td>0</td>\n",
              "      <td>0</td>\n",
              "      <td>0</td>\n",
              "      <td>0</td>\n",
              "      <td>0</td>\n",
              "      <td>0</td>\n",
              "      <td>0</td>\n",
              "      <td>0</td>\n",
              "    </tr>\n",
              "  </tbody>\n",
              "</table>\n",
              "<p>5 rows × 141 columns</p>\n",
              "</div>\n",
              "      <button class=\"colab-df-convert\" onclick=\"convertToInteractive('df-e9f4211f-99e2-47e9-a02a-1c9298735802')\"\n",
              "              title=\"Convert this dataframe to an interactive table.\"\n",
              "              style=\"display:none;\">\n",
              "        \n",
              "  <svg xmlns=\"http://www.w3.org/2000/svg\" height=\"24px\"viewBox=\"0 0 24 24\"\n",
              "       width=\"24px\">\n",
              "    <path d=\"M0 0h24v24H0V0z\" fill=\"none\"/>\n",
              "    <path d=\"M18.56 5.44l.94 2.06.94-2.06 2.06-.94-2.06-.94-.94-2.06-.94 2.06-2.06.94zm-11 1L8.5 8.5l.94-2.06 2.06-.94-2.06-.94L8.5 2.5l-.94 2.06-2.06.94zm10 10l.94 2.06.94-2.06 2.06-.94-2.06-.94-.94-2.06-.94 2.06-2.06.94z\"/><path d=\"M17.41 7.96l-1.37-1.37c-.4-.4-.92-.59-1.43-.59-.52 0-1.04.2-1.43.59L10.3 9.45l-7.72 7.72c-.78.78-.78 2.05 0 2.83L4 21.41c.39.39.9.59 1.41.59.51 0 1.02-.2 1.41-.59l7.78-7.78 2.81-2.81c.8-.78.8-2.07 0-2.86zM5.41 20L4 18.59l7.72-7.72 1.47 1.35L5.41 20z\"/>\n",
              "  </svg>\n",
              "      </button>\n",
              "      \n",
              "  <style>\n",
              "    .colab-df-container {\n",
              "      display:flex;\n",
              "      flex-wrap:wrap;\n",
              "      gap: 12px;\n",
              "    }\n",
              "\n",
              "    .colab-df-convert {\n",
              "      background-color: #E8F0FE;\n",
              "      border: none;\n",
              "      border-radius: 50%;\n",
              "      cursor: pointer;\n",
              "      display: none;\n",
              "      fill: #1967D2;\n",
              "      height: 32px;\n",
              "      padding: 0 0 0 0;\n",
              "      width: 32px;\n",
              "    }\n",
              "\n",
              "    .colab-df-convert:hover {\n",
              "      background-color: #E2EBFA;\n",
              "      box-shadow: 0px 1px 2px rgba(60, 64, 67, 0.3), 0px 1px 3px 1px rgba(60, 64, 67, 0.15);\n",
              "      fill: #174EA6;\n",
              "    }\n",
              "\n",
              "    [theme=dark] .colab-df-convert {\n",
              "      background-color: #3B4455;\n",
              "      fill: #D2E3FC;\n",
              "    }\n",
              "\n",
              "    [theme=dark] .colab-df-convert:hover {\n",
              "      background-color: #434B5C;\n",
              "      box-shadow: 0px 1px 3px 1px rgba(0, 0, 0, 0.15);\n",
              "      filter: drop-shadow(0px 1px 2px rgba(0, 0, 0, 0.3));\n",
              "      fill: #FFFFFF;\n",
              "    }\n",
              "  </style>\n",
              "\n",
              "      <script>\n",
              "        const buttonEl =\n",
              "          document.querySelector('#df-e9f4211f-99e2-47e9-a02a-1c9298735802 button.colab-df-convert');\n",
              "        buttonEl.style.display =\n",
              "          google.colab.kernel.accessAllowed ? 'block' : 'none';\n",
              "\n",
              "        async function convertToInteractive(key) {\n",
              "          const element = document.querySelector('#df-e9f4211f-99e2-47e9-a02a-1c9298735802');\n",
              "          const dataTable =\n",
              "            await google.colab.kernel.invokeFunction('convertToInteractive',\n",
              "                                                     [key], {});\n",
              "          if (!dataTable) return;\n",
              "\n",
              "          const docLinkHtml = 'Like what you see? Visit the ' +\n",
              "            '<a target=\"_blank\" href=https://colab.research.google.com/notebooks/data_table.ipynb>data table notebook</a>'\n",
              "            + ' to learn more about interactive tables.';\n",
              "          element.innerHTML = '';\n",
              "          dataTable['output_type'] = 'display_data';\n",
              "          await google.colab.output.renderOutput(dataTable, element);\n",
              "          const docLink = document.createElement('div');\n",
              "          docLink.innerHTML = docLinkHtml;\n",
              "          element.appendChild(docLink);\n",
              "        }\n",
              "      </script>\n",
              "    </div>\n",
              "  </div>\n",
              "  "
            ]
          },
          "metadata": {},
          "execution_count": 99
        }
      ]
    },
    {
      "cell_type": "code",
      "source": [
        "X2 = crop_data2_ac.drop('Production',axis=1)\n",
        "X2.head()"
      ],
      "metadata": {
        "colab": {
          "base_uri": "https://localhost:8080/",
          "height": 334
        },
        "id": "KIacvZc4rsCU",
        "outputId": "8ca5e0c6-a783-44c2-8c43-6d56f8d1d1b4"
      },
      "execution_count": 100,
      "outputs": [
        {
          "output_type": "execute_result",
          "data": {
            "text/plain": [
              "   Crop_Year    Area  State_Name_Andaman and Nicobar Islands  \\\n",
              "0       2000 1254.00                                       1   \n",
              "1       2000    2.00                                       1   \n",
              "2       2000  102.00                                       1   \n",
              "3       2000  176.00                                       1   \n",
              "4       2000  720.00                                       1   \n",
              "\n",
              "   State_Name_Andhra Pradesh  State_Name_Arunachal Pradesh  State_Name_Assam  \\\n",
              "0                          0                             0                 0   \n",
              "1                          0                             0                 0   \n",
              "2                          0                             0                 0   \n",
              "3                          0                             0                 0   \n",
              "4                          0                             0                 0   \n",
              "\n",
              "   State_Name_Bihar  State_Name_Chandigarh  State_Name_Chhattisgarh  \\\n",
              "0                 0                      0                        0   \n",
              "1                 0                      0                        0   \n",
              "2                 0                      0                        0   \n",
              "3                 0                      0                        0   \n",
              "4                 0                      0                        0   \n",
              "\n",
              "   State_Name_Dadra and Nagar Haveli  ...  Crop_Tobacco  Crop_Tomato  \\\n",
              "0                                  0  ...             0            0   \n",
              "1                                  0  ...             0            0   \n",
              "2                                  0  ...             0            0   \n",
              "3                                  0  ...             0            0   \n",
              "4                                  0  ...             0            0   \n",
              "\n",
              "   Crop_Total foodgrain  Crop_Turmeric  Crop_Turnip  Crop_Urad  Crop_Varagu  \\\n",
              "0                     0              0            0          0            0   \n",
              "1                     0              0            0          0            0   \n",
              "2                     0              0            0          0            0   \n",
              "3                     0              0            0          0            0   \n",
              "4                     0              0            0          0            0   \n",
              "\n",
              "   Crop_Wheat  Crop_other misc. pulses  Crop_other oilseeds  \n",
              "0           0                        0                    0  \n",
              "1           0                        0                    0  \n",
              "2           0                        0                    0  \n",
              "3           0                        0                    0  \n",
              "4           0                        0                    0  \n",
              "\n",
              "[5 rows x 140 columns]"
            ],
            "text/html": [
              "\n",
              "  <div id=\"df-b4f30b2f-d423-46e9-8c89-4a3fad7b4b3b\">\n",
              "    <div class=\"colab-df-container\">\n",
              "      <div>\n",
              "<style scoped>\n",
              "    .dataframe tbody tr th:only-of-type {\n",
              "        vertical-align: middle;\n",
              "    }\n",
              "\n",
              "    .dataframe tbody tr th {\n",
              "        vertical-align: top;\n",
              "    }\n",
              "\n",
              "    .dataframe thead th {\n",
              "        text-align: right;\n",
              "    }\n",
              "</style>\n",
              "<table border=\"1\" class=\"dataframe\">\n",
              "  <thead>\n",
              "    <tr style=\"text-align: right;\">\n",
              "      <th></th>\n",
              "      <th>Crop_Year</th>\n",
              "      <th>Area</th>\n",
              "      <th>State_Name_Andaman and Nicobar Islands</th>\n",
              "      <th>State_Name_Andhra Pradesh</th>\n",
              "      <th>State_Name_Arunachal Pradesh</th>\n",
              "      <th>State_Name_Assam</th>\n",
              "      <th>State_Name_Bihar</th>\n",
              "      <th>State_Name_Chandigarh</th>\n",
              "      <th>State_Name_Chhattisgarh</th>\n",
              "      <th>State_Name_Dadra and Nagar Haveli</th>\n",
              "      <th>...</th>\n",
              "      <th>Crop_Tobacco</th>\n",
              "      <th>Crop_Tomato</th>\n",
              "      <th>Crop_Total foodgrain</th>\n",
              "      <th>Crop_Turmeric</th>\n",
              "      <th>Crop_Turnip</th>\n",
              "      <th>Crop_Urad</th>\n",
              "      <th>Crop_Varagu</th>\n",
              "      <th>Crop_Wheat</th>\n",
              "      <th>Crop_other misc. pulses</th>\n",
              "      <th>Crop_other oilseeds</th>\n",
              "    </tr>\n",
              "  </thead>\n",
              "  <tbody>\n",
              "    <tr>\n",
              "      <th>0</th>\n",
              "      <td>2000</td>\n",
              "      <td>1254.00</td>\n",
              "      <td>1</td>\n",
              "      <td>0</td>\n",
              "      <td>0</td>\n",
              "      <td>0</td>\n",
              "      <td>0</td>\n",
              "      <td>0</td>\n",
              "      <td>0</td>\n",
              "      <td>0</td>\n",
              "      <td>...</td>\n",
              "      <td>0</td>\n",
              "      <td>0</td>\n",
              "      <td>0</td>\n",
              "      <td>0</td>\n",
              "      <td>0</td>\n",
              "      <td>0</td>\n",
              "      <td>0</td>\n",
              "      <td>0</td>\n",
              "      <td>0</td>\n",
              "      <td>0</td>\n",
              "    </tr>\n",
              "    <tr>\n",
              "      <th>1</th>\n",
              "      <td>2000</td>\n",
              "      <td>2.00</td>\n",
              "      <td>1</td>\n",
              "      <td>0</td>\n",
              "      <td>0</td>\n",
              "      <td>0</td>\n",
              "      <td>0</td>\n",
              "      <td>0</td>\n",
              "      <td>0</td>\n",
              "      <td>0</td>\n",
              "      <td>...</td>\n",
              "      <td>0</td>\n",
              "      <td>0</td>\n",
              "      <td>0</td>\n",
              "      <td>0</td>\n",
              "      <td>0</td>\n",
              "      <td>0</td>\n",
              "      <td>0</td>\n",
              "      <td>0</td>\n",
              "      <td>0</td>\n",
              "      <td>0</td>\n",
              "    </tr>\n",
              "    <tr>\n",
              "      <th>2</th>\n",
              "      <td>2000</td>\n",
              "      <td>102.00</td>\n",
              "      <td>1</td>\n",
              "      <td>0</td>\n",
              "      <td>0</td>\n",
              "      <td>0</td>\n",
              "      <td>0</td>\n",
              "      <td>0</td>\n",
              "      <td>0</td>\n",
              "      <td>0</td>\n",
              "      <td>...</td>\n",
              "      <td>0</td>\n",
              "      <td>0</td>\n",
              "      <td>0</td>\n",
              "      <td>0</td>\n",
              "      <td>0</td>\n",
              "      <td>0</td>\n",
              "      <td>0</td>\n",
              "      <td>0</td>\n",
              "      <td>0</td>\n",
              "      <td>0</td>\n",
              "    </tr>\n",
              "    <tr>\n",
              "      <th>3</th>\n",
              "      <td>2000</td>\n",
              "      <td>176.00</td>\n",
              "      <td>1</td>\n",
              "      <td>0</td>\n",
              "      <td>0</td>\n",
              "      <td>0</td>\n",
              "      <td>0</td>\n",
              "      <td>0</td>\n",
              "      <td>0</td>\n",
              "      <td>0</td>\n",
              "      <td>...</td>\n",
              "      <td>0</td>\n",
              "      <td>0</td>\n",
              "      <td>0</td>\n",
              "      <td>0</td>\n",
              "      <td>0</td>\n",
              "      <td>0</td>\n",
              "      <td>0</td>\n",
              "      <td>0</td>\n",
              "      <td>0</td>\n",
              "      <td>0</td>\n",
              "    </tr>\n",
              "    <tr>\n",
              "      <th>4</th>\n",
              "      <td>2000</td>\n",
              "      <td>720.00</td>\n",
              "      <td>1</td>\n",
              "      <td>0</td>\n",
              "      <td>0</td>\n",
              "      <td>0</td>\n",
              "      <td>0</td>\n",
              "      <td>0</td>\n",
              "      <td>0</td>\n",
              "      <td>0</td>\n",
              "      <td>...</td>\n",
              "      <td>0</td>\n",
              "      <td>0</td>\n",
              "      <td>0</td>\n",
              "      <td>0</td>\n",
              "      <td>0</td>\n",
              "      <td>0</td>\n",
              "      <td>0</td>\n",
              "      <td>0</td>\n",
              "      <td>0</td>\n",
              "      <td>0</td>\n",
              "    </tr>\n",
              "  </tbody>\n",
              "</table>\n",
              "<p>5 rows × 140 columns</p>\n",
              "</div>\n",
              "      <button class=\"colab-df-convert\" onclick=\"convertToInteractive('df-b4f30b2f-d423-46e9-8c89-4a3fad7b4b3b')\"\n",
              "              title=\"Convert this dataframe to an interactive table.\"\n",
              "              style=\"display:none;\">\n",
              "        \n",
              "  <svg xmlns=\"http://www.w3.org/2000/svg\" height=\"24px\"viewBox=\"0 0 24 24\"\n",
              "       width=\"24px\">\n",
              "    <path d=\"M0 0h24v24H0V0z\" fill=\"none\"/>\n",
              "    <path d=\"M18.56 5.44l.94 2.06.94-2.06 2.06-.94-2.06-.94-.94-2.06-.94 2.06-2.06.94zm-11 1L8.5 8.5l.94-2.06 2.06-.94-2.06-.94L8.5 2.5l-.94 2.06-2.06.94zm10 10l.94 2.06.94-2.06 2.06-.94-2.06-.94-.94-2.06-.94 2.06-2.06.94z\"/><path d=\"M17.41 7.96l-1.37-1.37c-.4-.4-.92-.59-1.43-.59-.52 0-1.04.2-1.43.59L10.3 9.45l-7.72 7.72c-.78.78-.78 2.05 0 2.83L4 21.41c.39.39.9.59 1.41.59.51 0 1.02-.2 1.41-.59l7.78-7.78 2.81-2.81c.8-.78.8-2.07 0-2.86zM5.41 20L4 18.59l7.72-7.72 1.47 1.35L5.41 20z\"/>\n",
              "  </svg>\n",
              "      </button>\n",
              "      \n",
              "  <style>\n",
              "    .colab-df-container {\n",
              "      display:flex;\n",
              "      flex-wrap:wrap;\n",
              "      gap: 12px;\n",
              "    }\n",
              "\n",
              "    .colab-df-convert {\n",
              "      background-color: #E8F0FE;\n",
              "      border: none;\n",
              "      border-radius: 50%;\n",
              "      cursor: pointer;\n",
              "      display: none;\n",
              "      fill: #1967D2;\n",
              "      height: 32px;\n",
              "      padding: 0 0 0 0;\n",
              "      width: 32px;\n",
              "    }\n",
              "\n",
              "    .colab-df-convert:hover {\n",
              "      background-color: #E2EBFA;\n",
              "      box-shadow: 0px 1px 2px rgba(60, 64, 67, 0.3), 0px 1px 3px 1px rgba(60, 64, 67, 0.15);\n",
              "      fill: #174EA6;\n",
              "    }\n",
              "\n",
              "    [theme=dark] .colab-df-convert {\n",
              "      background-color: #3B4455;\n",
              "      fill: #D2E3FC;\n",
              "    }\n",
              "\n",
              "    [theme=dark] .colab-df-convert:hover {\n",
              "      background-color: #434B5C;\n",
              "      box-shadow: 0px 1px 3px 1px rgba(0, 0, 0, 0.15);\n",
              "      filter: drop-shadow(0px 1px 2px rgba(0, 0, 0, 0.3));\n",
              "      fill: #FFFFFF;\n",
              "    }\n",
              "  </style>\n",
              "\n",
              "      <script>\n",
              "        const buttonEl =\n",
              "          document.querySelector('#df-b4f30b2f-d423-46e9-8c89-4a3fad7b4b3b button.colab-df-convert');\n",
              "        buttonEl.style.display =\n",
              "          google.colab.kernel.accessAllowed ? 'block' : 'none';\n",
              "\n",
              "        async function convertToInteractive(key) {\n",
              "          const element = document.querySelector('#df-b4f30b2f-d423-46e9-8c89-4a3fad7b4b3b');\n",
              "          const dataTable =\n",
              "            await google.colab.kernel.invokeFunction('convertToInteractive',\n",
              "                                                     [key], {});\n",
              "          if (!dataTable) return;\n",
              "\n",
              "          const docLinkHtml = 'Like what you see? Visit the ' +\n",
              "            '<a target=\"_blank\" href=https://colab.research.google.com/notebooks/data_table.ipynb>data table notebook</a>'\n",
              "            + ' to learn more about interactive tables.';\n",
              "          element.innerHTML = '';\n",
              "          dataTable['output_type'] = 'display_data';\n",
              "          await google.colab.output.renderOutput(dataTable, element);\n",
              "          const docLink = document.createElement('div');\n",
              "          docLink.innerHTML = docLinkHtml;\n",
              "          element.appendChild(docLink);\n",
              "        }\n",
              "      </script>\n",
              "    </div>\n",
              "  </div>\n",
              "  "
            ]
          },
          "metadata": {},
          "execution_count": 100
        }
      ]
    },
    {
      "cell_type": "code",
      "source": [
        "y2 = crop_data2_ac['Production']\n",
        "y2.head()"
      ],
      "metadata": {
        "colab": {
          "base_uri": "https://localhost:8080/"
        },
        "id": "XNdgpXHZruyl",
        "outputId": "4910bf48-1c3d-490f-b4e3-d8663cc6b215"
      },
      "execution_count": 101,
      "outputs": [
        {
          "output_type": "execute_result",
          "data": {
            "text/plain": [
              "0   2000.00\n",
              "1      1.00\n",
              "2    321.00\n",
              "3    641.00\n",
              "4    165.00\n",
              "Name: Production, dtype: float64"
            ]
          },
          "metadata": {},
          "execution_count": 101
        }
      ]
    },
    {
      "cell_type": "code",
      "source": [
        "from sklearn.model_selection import train_test_split"
      ],
      "metadata": {
        "id": "UVYhhWR3rxdM"
      },
      "execution_count": 102,
      "outputs": []
    },
    {
      "cell_type": "code",
      "source": [
        "X2_train, X2_test, y2_train, y2_test = train_test_split( X2, y2, test_size=0.33, random_state=42)"
      ],
      "metadata": {
        "id": "LXqCY4esr0kq"
      },
      "execution_count": 103,
      "outputs": []
    },
    {
      "cell_type": "code",
      "source": [
        "from sklearn.linear_model import LinearRegression\n",
        "crop_model2 = LinearRegression()\n",
        "crop_model2.fit(X2_train,y2_train)"
      ],
      "metadata": {
        "colab": {
          "base_uri": "https://localhost:8080/"
        },
        "id": "Fj4qNcMWr3c6",
        "outputId": "303946f9-84b3-4e93-dc59-a118b7cddd9c"
      },
      "execution_count": 104,
      "outputs": [
        {
          "output_type": "execute_result",
          "data": {
            "text/plain": [
              "LinearRegression()"
            ]
          },
          "metadata": {},
          "execution_count": 104
        }
      ]
    },
    {
      "cell_type": "code",
      "source": [
        "#Prediction\n",
        "crop2_predictions = crop_model2.predict(X2_test)\n",
        "crop2_predictions"
      ],
      "metadata": {
        "colab": {
          "base_uri": "https://localhost:8080/"
        },
        "id": "j26Bav2jr6oy",
        "outputId": "eff64958-7a2a-4e83-d018-646fa01d418d"
      },
      "execution_count": 105,
      "outputs": [
        {
          "output_type": "execute_result",
          "data": {
            "text/plain": [
              "array([ -73157.54186155,  669049.17291986,  588604.35534453, ...,\n",
              "       -493611.71710525, -173983.82198057,  326801.26226901])"
            ]
          },
          "metadata": {},
          "execution_count": 105
        }
      ]
    },
    {
      "cell_type": "code",
      "source": [
        "crop_model2.coef_"
      ],
      "metadata": {
        "colab": {
          "base_uri": "https://localhost:8080/"
        },
        "id": "XdYDLf4Kr99C",
        "outputId": "cf3f8d31-8833-4d80-b0e4-832fce701f51"
      },
      "execution_count": 106,
      "outputs": [
        {
          "output_type": "execute_result",
          "data": {
            "text/plain": [
              "array([ 2.57909393e+04,  4.03282022e+01, -1.94159543e+06, -9.84203532e+05,\n",
              "        2.44618426e+05, -2.20974451e+06, -5.54990577e+05,  3.41116469e+02,\n",
              "       -7.79026568e+05, -2.41160965e+06, -2.08223295e+06, -9.93818780e+05,\n",
              "       -1.02652886e+06, -5.92354318e+05, -6.87156662e+05, -5.07125054e+04,\n",
              "       -2.60347800e+06,  2.62382351e+07, -8.35257041e+05, -1.35634759e+06,\n",
              "        4.39516892e+05,  5.67840716e+05, -3.42550561e+05, -4.45170808e+05,\n",
              "       -8.80010751e+04, -4.18993511e+06, -1.56846178e+06, -1.16707870e+06,\n",
              "       -1.78786166e+05, -4.01511033e+05, -4.39350901e+05,  6.43728635e+05,\n",
              "        8.64816550e+05,  8.89230776e+05, -7.17802516e+05, -1.24062254e+06,\n",
              "        3.36835466e+06, -3.03270131e+06,  2.46782759e+05,  3.40510452e+06,\n",
              "       -5.24362576e+05, -5.20554145e+05,  9.89699927e+04, -2.33914316e+05,\n",
              "        2.50504675e+06,  1.36938701e+06,  5.31758961e+05, -5.77629050e+06,\n",
              "        2.83931471e+05,  5.25763862e+05,  1.57845104e+06,  4.59329709e+05,\n",
              "       -7.11256598e+06,  6.84679612e+05, -5.64609558e+06,  3.56735240e+06,\n",
              "       -8.52999721e+06,  6.71748596e+05,  5.24243507e+05,  1.97828604e+06,\n",
              "        8.41154717e+07, -2.70676199e+07, -2.29000767e+05,  2.88966522e+05,\n",
              "        1.80029137e+06, -6.01271811e+05,  1.14225270e+06, -2.54551310e+07,\n",
              "        1.48518669e+06, -1.49747615e+06,  1.61228664e+06,  8.63538600e+05,\n",
              "       -2.89813149e+05,  2.14670888e+06,  4.28607670e+04, -1.53467164e+05,\n",
              "        7.22651867e+05, -6.74890755e+06, -2.18043803e+05, -3.95194503e+05,\n",
              "        6.65110718e+05,  3.67068714e+05, -3.32005715e+05,  3.04118374e+05,\n",
              "        2.38406044e+05, -4.56572961e+05,  3.91749976e+05,  2.28222150e+05,\n",
              "       -3.53307730e+06,  1.41722498e+05,  7.38510278e+05,  3.47763669e+05,\n",
              "       -2.57130535e+05,  9.89527872e+05,  2.46774562e+05,  1.68537832e+06,\n",
              "        1.85718760e+06,  4.12077970e+05, -9.37136834e+05,  2.32684311e+06,\n",
              "        5.04209182e+05,  1.61569439e+06,  6.47637182e+05, -9.81485633e+05,\n",
              "        3.24409796e+05, -2.24982361e+05, -3.48281838e+06,  2.30101851e+06,\n",
              "        3.14397074e+05,  1.33009565e+06,  4.37398277e+05,  2.27341764e+05,\n",
              "       -3.65000535e+05, -2.93252740e+04,  7.39528815e+05, -2.29369000e+06,\n",
              "       -2.33062708e+05, -2.55846056e+07,  4.85154018e+05,  1.92207855e+05,\n",
              "        1.39548065e+06,  2.99363403e+05, -6.52650813e+04,  3.18788660e+05,\n",
              "       -1.58707370e+06,  1.25919811e+06,  6.38167385e+05,  7.46943125e+04,\n",
              "       -2.85861786e+06, -5.36943242e+06,  1.51160332e+06,  1.53840836e+06,\n",
              "       -2.07804828e+06, -2.79799761e+05,  1.65824159e+06,  4.19228136e+05,\n",
              "        1.28822538e+05, -1.54005801e+06,  8.33334453e+05,  3.67304496e+05])"
            ]
          },
          "metadata": {},
          "execution_count": 106
        }
      ]
    },
    {
      "cell_type": "code",
      "source": [
        "crop_model.intercept_"
      ],
      "metadata": {
        "colab": {
          "base_uri": "https://localhost:8080/"
        },
        "id": "1C77m-lesAtp",
        "outputId": "377311d0-761a-4035-bcd8-49e330be26c4"
      },
      "execution_count": 107,
      "outputs": [
        {
          "output_type": "execute_result",
          "data": {
            "text/plain": [
              "-55168528.39168118"
            ]
          },
          "metadata": {},
          "execution_count": 107
        }
      ]
    },
    {
      "cell_type": "code",
      "source": [
        "predicted_crop_val2 = pd.DataFrame({'Actual':y2_test,'Predicted':crop2_predictions})\n",
        "predicted_crop_val2"
      ],
      "metadata": {
        "colab": {
          "base_uri": "https://localhost:8080/",
          "height": 424
        },
        "id": "ZsyY6teQsDZx",
        "outputId": "94e1f042-e3ae-4b91-a25c-ac7921517d40"
      },
      "execution_count": 108,
      "outputs": [
        {
          "output_type": "execute_result",
          "data": {
            "text/plain": [
              "         Actual   Predicted\n",
              "56494      9.00   -73157.54\n",
              "47692      7.00   669049.17\n",
              "105868  5041.00   588604.36\n",
              "23247  11350.00 -4658638.52\n",
              "138945    50.00   911973.74\n",
              "...         ...         ...\n",
              "71574    484.00   109172.82\n",
              "59850   2400.00  -497445.74\n",
              "182987  4556.00  -493611.72\n",
              "62034    300.00  -173983.82\n",
              "184880 21103.00   326801.26\n",
              "\n",
              "[59784 rows x 2 columns]"
            ],
            "text/html": [
              "\n",
              "  <div id=\"df-ee04ce38-a1fd-4dca-a9e8-2fc507d0c9ff\">\n",
              "    <div class=\"colab-df-container\">\n",
              "      <div>\n",
              "<style scoped>\n",
              "    .dataframe tbody tr th:only-of-type {\n",
              "        vertical-align: middle;\n",
              "    }\n",
              "\n",
              "    .dataframe tbody tr th {\n",
              "        vertical-align: top;\n",
              "    }\n",
              "\n",
              "    .dataframe thead th {\n",
              "        text-align: right;\n",
              "    }\n",
              "</style>\n",
              "<table border=\"1\" class=\"dataframe\">\n",
              "  <thead>\n",
              "    <tr style=\"text-align: right;\">\n",
              "      <th></th>\n",
              "      <th>Actual</th>\n",
              "      <th>Predicted</th>\n",
              "    </tr>\n",
              "  </thead>\n",
              "  <tbody>\n",
              "    <tr>\n",
              "      <th>56494</th>\n",
              "      <td>9.00</td>\n",
              "      <td>-73157.54</td>\n",
              "    </tr>\n",
              "    <tr>\n",
              "      <th>47692</th>\n",
              "      <td>7.00</td>\n",
              "      <td>669049.17</td>\n",
              "    </tr>\n",
              "    <tr>\n",
              "      <th>105868</th>\n",
              "      <td>5041.00</td>\n",
              "      <td>588604.36</td>\n",
              "    </tr>\n",
              "    <tr>\n",
              "      <th>23247</th>\n",
              "      <td>11350.00</td>\n",
              "      <td>-4658638.52</td>\n",
              "    </tr>\n",
              "    <tr>\n",
              "      <th>138945</th>\n",
              "      <td>50.00</td>\n",
              "      <td>911973.74</td>\n",
              "    </tr>\n",
              "    <tr>\n",
              "      <th>...</th>\n",
              "      <td>...</td>\n",
              "      <td>...</td>\n",
              "    </tr>\n",
              "    <tr>\n",
              "      <th>71574</th>\n",
              "      <td>484.00</td>\n",
              "      <td>109172.82</td>\n",
              "    </tr>\n",
              "    <tr>\n",
              "      <th>59850</th>\n",
              "      <td>2400.00</td>\n",
              "      <td>-497445.74</td>\n",
              "    </tr>\n",
              "    <tr>\n",
              "      <th>182987</th>\n",
              "      <td>4556.00</td>\n",
              "      <td>-493611.72</td>\n",
              "    </tr>\n",
              "    <tr>\n",
              "      <th>62034</th>\n",
              "      <td>300.00</td>\n",
              "      <td>-173983.82</td>\n",
              "    </tr>\n",
              "    <tr>\n",
              "      <th>184880</th>\n",
              "      <td>21103.00</td>\n",
              "      <td>326801.26</td>\n",
              "    </tr>\n",
              "  </tbody>\n",
              "</table>\n",
              "<p>59784 rows × 2 columns</p>\n",
              "</div>\n",
              "      <button class=\"colab-df-convert\" onclick=\"convertToInteractive('df-ee04ce38-a1fd-4dca-a9e8-2fc507d0c9ff')\"\n",
              "              title=\"Convert this dataframe to an interactive table.\"\n",
              "              style=\"display:none;\">\n",
              "        \n",
              "  <svg xmlns=\"http://www.w3.org/2000/svg\" height=\"24px\"viewBox=\"0 0 24 24\"\n",
              "       width=\"24px\">\n",
              "    <path d=\"M0 0h24v24H0V0z\" fill=\"none\"/>\n",
              "    <path d=\"M18.56 5.44l.94 2.06.94-2.06 2.06-.94-2.06-.94-.94-2.06-.94 2.06-2.06.94zm-11 1L8.5 8.5l.94-2.06 2.06-.94-2.06-.94L8.5 2.5l-.94 2.06-2.06.94zm10 10l.94 2.06.94-2.06 2.06-.94-2.06-.94-.94-2.06-.94 2.06-2.06.94z\"/><path d=\"M17.41 7.96l-1.37-1.37c-.4-.4-.92-.59-1.43-.59-.52 0-1.04.2-1.43.59L10.3 9.45l-7.72 7.72c-.78.78-.78 2.05 0 2.83L4 21.41c.39.39.9.59 1.41.59.51 0 1.02-.2 1.41-.59l7.78-7.78 2.81-2.81c.8-.78.8-2.07 0-2.86zM5.41 20L4 18.59l7.72-7.72 1.47 1.35L5.41 20z\"/>\n",
              "  </svg>\n",
              "      </button>\n",
              "      \n",
              "  <style>\n",
              "    .colab-df-container {\n",
              "      display:flex;\n",
              "      flex-wrap:wrap;\n",
              "      gap: 12px;\n",
              "    }\n",
              "\n",
              "    .colab-df-convert {\n",
              "      background-color: #E8F0FE;\n",
              "      border: none;\n",
              "      border-radius: 50%;\n",
              "      cursor: pointer;\n",
              "      display: none;\n",
              "      fill: #1967D2;\n",
              "      height: 32px;\n",
              "      padding: 0 0 0 0;\n",
              "      width: 32px;\n",
              "    }\n",
              "\n",
              "    .colab-df-convert:hover {\n",
              "      background-color: #E2EBFA;\n",
              "      box-shadow: 0px 1px 2px rgba(60, 64, 67, 0.3), 0px 1px 3px 1px rgba(60, 64, 67, 0.15);\n",
              "      fill: #174EA6;\n",
              "    }\n",
              "\n",
              "    [theme=dark] .colab-df-convert {\n",
              "      background-color: #3B4455;\n",
              "      fill: #D2E3FC;\n",
              "    }\n",
              "\n",
              "    [theme=dark] .colab-df-convert:hover {\n",
              "      background-color: #434B5C;\n",
              "      box-shadow: 0px 1px 3px 1px rgba(0, 0, 0, 0.15);\n",
              "      filter: drop-shadow(0px 1px 2px rgba(0, 0, 0, 0.3));\n",
              "      fill: #FFFFFF;\n",
              "    }\n",
              "  </style>\n",
              "\n",
              "      <script>\n",
              "        const buttonEl =\n",
              "          document.querySelector('#df-ee04ce38-a1fd-4dca-a9e8-2fc507d0c9ff button.colab-df-convert');\n",
              "        buttonEl.style.display =\n",
              "          google.colab.kernel.accessAllowed ? 'block' : 'none';\n",
              "\n",
              "        async function convertToInteractive(key) {\n",
              "          const element = document.querySelector('#df-ee04ce38-a1fd-4dca-a9e8-2fc507d0c9ff');\n",
              "          const dataTable =\n",
              "            await google.colab.kernel.invokeFunction('convertToInteractive',\n",
              "                                                     [key], {});\n",
              "          if (!dataTable) return;\n",
              "\n",
              "          const docLinkHtml = 'Like what you see? Visit the ' +\n",
              "            '<a target=\"_blank\" href=https://colab.research.google.com/notebooks/data_table.ipynb>data table notebook</a>'\n",
              "            + ' to learn more about interactive tables.';\n",
              "          element.innerHTML = '';\n",
              "          dataTable['output_type'] = 'display_data';\n",
              "          await google.colab.output.renderOutput(dataTable, element);\n",
              "          const docLink = document.createElement('div');\n",
              "          docLink.innerHTML = docLinkHtml;\n",
              "          element.appendChild(docLink);\n",
              "        }\n",
              "      </script>\n",
              "    </div>\n",
              "  </div>\n",
              "  "
            ]
          },
          "metadata": {},
          "execution_count": 108
        }
      ]
    },
    {
      "cell_type": "code",
      "source": [
        "from sklearn.metrics import mean_absolute_error, mean_squared_error, r2_score\n",
        "df['Production'].mean()"
      ],
      "metadata": {
        "colab": {
          "base_uri": "https://localhost:8080/"
        },
        "id": "UpDHvX4hsF9j",
        "outputId": "ac7865ed-bfb8-4ef1-ab23-06a0c4e5b771"
      },
      "execution_count": 109,
      "outputs": [
        {
          "output_type": "execute_result",
          "data": {
            "text/plain": [
              "736017.0819209325"
            ]
          },
          "metadata": {},
          "execution_count": 109
        }
      ]
    },
    {
      "cell_type": "code",
      "source": [
        "crop2_predictions.mean()"
      ],
      "metadata": {
        "colab": {
          "base_uri": "https://localhost:8080/"
        },
        "id": "Z_WJHRPisJDp",
        "outputId": "0eee3c61-2a9d-4ef1-a190-e393e75268f5"
      },
      "execution_count": 110,
      "outputs": [
        {
          "output_type": "execute_result",
          "data": {
            "text/plain": [
              "707856.9694210264"
            ]
          },
          "metadata": {},
          "execution_count": 110
        }
      ]
    },
    {
      "cell_type": "code",
      "source": [
        "mean_absolute_error(y_test,crop2_predictions)"
      ],
      "metadata": {
        "colab": {
          "base_uri": "https://localhost:8080/"
        },
        "id": "Vv6KN4a9sLIZ",
        "outputId": "55a3eae5-f684-43f8-b2c3-154124f5e232"
      },
      "execution_count": 111,
      "outputs": [
        {
          "output_type": "execute_result",
          "data": {
            "text/plain": [
              "2486543.1403468153"
            ]
          },
          "metadata": {},
          "execution_count": 111
        }
      ]
    },
    {
      "cell_type": "code",
      "source": [
        "mean_squared_error(y_test,crop2_predictions)"
      ],
      "metadata": {
        "colab": {
          "base_uri": "https://localhost:8080/"
        },
        "id": "QupcZ9eJsOzJ",
        "outputId": "580ff386-c16f-46cd-d238-d4aa4d74e4dc"
      },
      "execution_count": 112,
      "outputs": [
        {
          "output_type": "execute_result",
          "data": {
            "text/plain": [
              "202722935094206.25"
            ]
          },
          "metadata": {},
          "execution_count": 112
        }
      ]
    },
    {
      "cell_type": "code",
      "source": [
        "np.sqrt(mean_squared_error(y_test,crop2_predictions))"
      ],
      "metadata": {
        "colab": {
          "base_uri": "https://localhost:8080/"
        },
        "id": "bpFgGbN1sRo4",
        "outputId": "685d69d7-9f7c-4b1f-b7a1-535793ff3a5a"
      },
      "execution_count": 113,
      "outputs": [
        {
          "output_type": "execute_result",
          "data": {
            "text/plain": [
              "14238080.456796354"
            ]
          },
          "metadata": {},
          "execution_count": 113
        }
      ]
    },
    {
      "cell_type": "code",
      "source": [
        "r2_score(y_test,crop2_predictions)"
      ],
      "metadata": {
        "colab": {
          "base_uri": "https://localhost:8080/"
        },
        "id": "lt0jbSE0sURA",
        "outputId": "d9fc61e3-8895-47ef-8b84-3d7ce6062588"
      },
      "execution_count": 114,
      "outputs": [
        {
          "output_type": "execute_result",
          "data": {
            "text/plain": [
              "0.1123315740675569"
            ]
          },
          "metadata": {},
          "execution_count": 114
        }
      ]
    },
    {
      "cell_type": "code",
      "source": [
        "test2_residuals = y2_test - crop2_predictions"
      ],
      "metadata": {
        "id": "HJQSJa4PsWVw"
      },
      "execution_count": 115,
      "outputs": []
    },
    {
      "cell_type": "code",
      "source": [
        "test2_residuals"
      ],
      "metadata": {
        "colab": {
          "base_uri": "https://localhost:8080/"
        },
        "id": "0mvXdJzjsZDv",
        "outputId": "0080ddd0-794f-4b75-bf89-2e35c749d61f"
      },
      "execution_count": 116,
      "outputs": [
        {
          "output_type": "execute_result",
          "data": {
            "text/plain": [
              "56494      73166.54\n",
              "47692    -669042.17\n",
              "105868   -583563.36\n",
              "23247    4669988.52\n",
              "138945   -911923.74\n",
              "            ...    \n",
              "71574    -108688.82\n",
              "59850     499845.74\n",
              "182987    498167.72\n",
              "62034     174283.82\n",
              "184880   -305698.26\n",
              "Name: Production, Length: 59784, dtype: float64"
            ]
          },
          "metadata": {},
          "execution_count": 116
        }
      ]
    },
    {
      "cell_type": "code",
      "source": [
        "sns.scatterplot(x=y2_test,y=test2_residuals)\n",
        "plt.axhline(y=0,color='red')\n"
      ],
      "metadata": {
        "colab": {
          "base_uri": "https://localhost:8080/",
          "height": 307
        },
        "id": "2eY86R11sbYg",
        "outputId": "3588c3d1-c3ce-45da-ea1d-606d3e8accd5"
      },
      "execution_count": 117,
      "outputs": [
        {
          "output_type": "execute_result",
          "data": {
            "text/plain": [
              "<matplotlib.lines.Line2D at 0x7f2f73d24610>"
            ]
          },
          "metadata": {},
          "execution_count": 117
        },
        {
          "output_type": "display_data",
          "data": {
            "text/plain": [
              "<Figure size 432x288 with 1 Axes>"
            ],
            "image/png": "[encoded data removed]"
          },
          "metadata": {
            "needs_background": "light"
          }
        }
      ]
    }
  ]
}